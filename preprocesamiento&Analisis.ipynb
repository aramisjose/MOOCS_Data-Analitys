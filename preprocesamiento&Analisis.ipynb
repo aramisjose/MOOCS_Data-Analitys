{
 "cells": [
  {
   "cell_type": "code",
   "execution_count": 1,
   "metadata": {},
   "outputs": [],
   "source": [
    "import pandas as pd \n",
    "import numpy as np\n",
    "import matplotlib.pyplot as plt\n",
    "import seaborn as sns "
   ]
  },
  {
   "attachments": {},
   "cell_type": "markdown",
   "metadata": {},
   "source": [
    "Extracción de datos y creación de dataframes "
   ]
  },
  {
   "cell_type": "code",
   "execution_count": 2,
   "metadata": {},
   "outputs": [],
   "source": [
    "data_coursera_reseñas = pd.read_csv('Coursera_reviews.csv')\n",
    "data_coursera_cursos = pd.read_csv('Coursera_courses.csv')\n",
    "data_edx = pd.read_csv('edx_courses.csv')\n"
   ]
  },
  {
   "attachments": {},
   "cell_type": "markdown",
   "metadata": {},
   "source": [
    "                                            COURSERA_CURSOS"
   ]
  },
  {
   "cell_type": "code",
   "execution_count": 3,
   "metadata": {},
   "outputs": [
    {
     "data": {
      "text/html": [
       "<div>\n",
       "<style scoped>\n",
       "    .dataframe tbody tr th:only-of-type {\n",
       "        vertical-align: middle;\n",
       "    }\n",
       "\n",
       "    .dataframe tbody tr th {\n",
       "        vertical-align: top;\n",
       "    }\n",
       "\n",
       "    .dataframe thead th {\n",
       "        text-align: right;\n",
       "    }\n",
       "</style>\n",
       "<table border=\"1\" class=\"dataframe\">\n",
       "  <thead>\n",
       "    <tr style=\"text-align: right;\">\n",
       "      <th></th>\n",
       "      <th>name</th>\n",
       "      <th>institution</th>\n",
       "      <th>course_url</th>\n",
       "      <th>course_id</th>\n",
       "    </tr>\n",
       "  </thead>\n",
       "  <tbody>\n",
       "    <tr>\n",
       "      <th>0</th>\n",
       "      <td>Machine Learning</td>\n",
       "      <td>Stanford University</td>\n",
       "      <td>https://www.coursera.org/learn/machine-learning</td>\n",
       "      <td>machine-learning</td>\n",
       "    </tr>\n",
       "    <tr>\n",
       "      <th>1</th>\n",
       "      <td>Indigenous Canada</td>\n",
       "      <td>University of Alberta</td>\n",
       "      <td>https://www.coursera.org/learn/indigenous-canada</td>\n",
       "      <td>indigenous-canada</td>\n",
       "    </tr>\n",
       "    <tr>\n",
       "      <th>2</th>\n",
       "      <td>The Science of Well-Being</td>\n",
       "      <td>Yale University</td>\n",
       "      <td>https://www.coursera.org/learn/the-science-of-...</td>\n",
       "      <td>the-science-of-well-being</td>\n",
       "    </tr>\n",
       "    <tr>\n",
       "      <th>3</th>\n",
       "      <td>Technical Support Fundamentals</td>\n",
       "      <td>Google</td>\n",
       "      <td>https://www.coursera.org/learn/technical-suppo...</td>\n",
       "      <td>technical-support-fundamentals</td>\n",
       "    </tr>\n",
       "    <tr>\n",
       "      <th>4</th>\n",
       "      <td>Become a CBRS Certified Professional Installer...</td>\n",
       "      <td>Google - Spectrum Sharing</td>\n",
       "      <td>https://www.coursera.org/learn/google-cbrs-cpi...</td>\n",
       "      <td>google-cbrs-cpi-training</td>\n",
       "    </tr>\n",
       "  </tbody>\n",
       "</table>\n",
       "</div>"
      ],
      "text/plain": [
       "                                                name  \\\n",
       "0                                   Machine Learning   \n",
       "1                                  Indigenous Canada   \n",
       "2                          The Science of Well-Being   \n",
       "3                     Technical Support Fundamentals   \n",
       "4  Become a CBRS Certified Professional Installer...   \n",
       "\n",
       "                 institution  \\\n",
       "0        Stanford University   \n",
       "1      University of Alberta   \n",
       "2            Yale University   \n",
       "3                     Google   \n",
       "4  Google - Spectrum Sharing   \n",
       "\n",
       "                                          course_url  \\\n",
       "0    https://www.coursera.org/learn/machine-learning   \n",
       "1   https://www.coursera.org/learn/indigenous-canada   \n",
       "2  https://www.coursera.org/learn/the-science-of-...   \n",
       "3  https://www.coursera.org/learn/technical-suppo...   \n",
       "4  https://www.coursera.org/learn/google-cbrs-cpi...   \n",
       "\n",
       "                        course_id  \n",
       "0                machine-learning  \n",
       "1               indigenous-canada  \n",
       "2       the-science-of-well-being  \n",
       "3  technical-support-fundamentals  \n",
       "4        google-cbrs-cpi-training  "
      ]
     },
     "execution_count": 3,
     "metadata": {},
     "output_type": "execute_result"
    }
   ],
   "source": [
    "data_coursera_cursos.head() ##visualizamos"
   ]
  },
  {
   "cell_type": "code",
   "execution_count": 4,
   "metadata": {},
   "outputs": [
    {
     "data": {
      "text/plain": [
       "(623, 4)"
      ]
     },
     "execution_count": 4,
     "metadata": {},
     "output_type": "execute_result"
    }
   ],
   "source": [
    "data_coursera_cursos.shape ##vemos el tamaño del archivo"
   ]
  },
  {
   "cell_type": "code",
   "execution_count": 5,
   "metadata": {},
   "outputs": [
    {
     "data": {
      "text/plain": [
       "name           0\n",
       "institution    0\n",
       "course_url     0\n",
       "course_id      0\n",
       "dtype: int64"
      ]
     },
     "execution_count": 5,
     "metadata": {},
     "output_type": "execute_result"
    }
   ],
   "source": [
    "data_coursera_cursos.isna().sum() ##chequeamos que no hayan valores nulos"
   ]
  },
  {
   "cell_type": "code",
   "execution_count": 6,
   "metadata": {},
   "outputs": [
    {
     "data": {
      "text/html": [
       "<div>\n",
       "<style scoped>\n",
       "    .dataframe tbody tr th:only-of-type {\n",
       "        vertical-align: middle;\n",
       "    }\n",
       "\n",
       "    .dataframe tbody tr th {\n",
       "        vertical-align: top;\n",
       "    }\n",
       "\n",
       "    .dataframe thead th {\n",
       "        text-align: right;\n",
       "    }\n",
       "</style>\n",
       "<table border=\"1\" class=\"dataframe\">\n",
       "  <thead>\n",
       "    <tr style=\"text-align: right;\">\n",
       "      <th></th>\n",
       "      <th>name</th>\n",
       "      <th>institution</th>\n",
       "      <th>course_url</th>\n",
       "      <th>course_id</th>\n",
       "    </tr>\n",
       "  </thead>\n",
       "  <tbody>\n",
       "  </tbody>\n",
       "</table>\n",
       "</div>"
      ],
      "text/plain": [
       "Empty DataFrame\n",
       "Columns: [name, institution, course_url, course_id]\n",
       "Index: []"
      ]
     },
     "execution_count": 6,
     "metadata": {},
     "output_type": "execute_result"
    }
   ],
   "source": [
    "data_coursera_cursos[data_coursera_cursos.duplicated()] # Verificamos existenvia de filas duplicadas por columnas "
   ]
  },
  {
   "attachments": {},
   "cell_type": "markdown",
   "metadata": {},
   "source": [
    "                                             COURSERA RESEÑAS"
   ]
  },
  {
   "cell_type": "code",
   "execution_count": 7,
   "metadata": {},
   "outputs": [
    {
     "data": {
      "text/html": [
       "<div>\n",
       "<style scoped>\n",
       "    .dataframe tbody tr th:only-of-type {\n",
       "        vertical-align: middle;\n",
       "    }\n",
       "\n",
       "    .dataframe tbody tr th {\n",
       "        vertical-align: top;\n",
       "    }\n",
       "\n",
       "    .dataframe thead th {\n",
       "        text-align: right;\n",
       "    }\n",
       "</style>\n",
       "<table border=\"1\" class=\"dataframe\">\n",
       "  <thead>\n",
       "    <tr style=\"text-align: right;\">\n",
       "      <th></th>\n",
       "      <th>reviews</th>\n",
       "      <th>reviewers</th>\n",
       "      <th>date_reviews</th>\n",
       "      <th>rating</th>\n",
       "      <th>course_id</th>\n",
       "    </tr>\n",
       "  </thead>\n",
       "  <tbody>\n",
       "    <tr>\n",
       "      <th>0</th>\n",
       "      <td>Pretty dry, but I was able to pass with just t...</td>\n",
       "      <td>By Robert S</td>\n",
       "      <td>Feb 12, 2020</td>\n",
       "      <td>4</td>\n",
       "      <td>google-cbrs-cpi-training</td>\n",
       "    </tr>\n",
       "    <tr>\n",
       "      <th>1</th>\n",
       "      <td>would be a better experience if the video and ...</td>\n",
       "      <td>By Gabriel E R</td>\n",
       "      <td>Sep 28, 2020</td>\n",
       "      <td>4</td>\n",
       "      <td>google-cbrs-cpi-training</td>\n",
       "    </tr>\n",
       "    <tr>\n",
       "      <th>2</th>\n",
       "      <td>Information was perfect! The program itself wa...</td>\n",
       "      <td>By Jacob D</td>\n",
       "      <td>Apr 08, 2020</td>\n",
       "      <td>4</td>\n",
       "      <td>google-cbrs-cpi-training</td>\n",
       "    </tr>\n",
       "    <tr>\n",
       "      <th>3</th>\n",
       "      <td>A few grammatical mistakes on test made me do ...</td>\n",
       "      <td>By Dale B</td>\n",
       "      <td>Feb 24, 2020</td>\n",
       "      <td>4</td>\n",
       "      <td>google-cbrs-cpi-training</td>\n",
       "    </tr>\n",
       "    <tr>\n",
       "      <th>4</th>\n",
       "      <td>Excellent course and the training provided was...</td>\n",
       "      <td>By Sean G</td>\n",
       "      <td>Jun 18, 2020</td>\n",
       "      <td>4</td>\n",
       "      <td>google-cbrs-cpi-training</td>\n",
       "    </tr>\n",
       "  </tbody>\n",
       "</table>\n",
       "</div>"
      ],
      "text/plain": [
       "                                             reviews       reviewers  \\\n",
       "0  Pretty dry, but I was able to pass with just t...     By Robert S   \n",
       "1  would be a better experience if the video and ...  By Gabriel E R   \n",
       "2  Information was perfect! The program itself wa...      By Jacob D   \n",
       "3  A few grammatical mistakes on test made me do ...       By Dale B   \n",
       "4  Excellent course and the training provided was...       By Sean G   \n",
       "\n",
       "   date_reviews  rating                 course_id  \n",
       "0  Feb 12, 2020       4  google-cbrs-cpi-training  \n",
       "1  Sep 28, 2020       4  google-cbrs-cpi-training  \n",
       "2  Apr 08, 2020       4  google-cbrs-cpi-training  \n",
       "3  Feb 24, 2020       4  google-cbrs-cpi-training  \n",
       "4  Jun 18, 2020       4  google-cbrs-cpi-training  "
      ]
     },
     "execution_count": 7,
     "metadata": {},
     "output_type": "execute_result"
    }
   ],
   "source": [
    "data_coursera_reseñas.head() ##visualizamos"
   ]
  },
  {
   "cell_type": "code",
   "execution_count": 8,
   "metadata": {},
   "outputs": [
    {
     "data": {
      "text/plain": [
       "(1454711, 5)"
      ]
     },
     "execution_count": 8,
     "metadata": {},
     "output_type": "execute_result"
    }
   ],
   "source": [
    "data_coursera_reseñas.shape #chequeamos el tamaño del archivo"
   ]
  },
  {
   "cell_type": "code",
   "execution_count": 9,
   "metadata": {},
   "outputs": [
    {
     "data": {
      "text/plain": [
       "5"
      ]
     },
     "execution_count": 9,
     "metadata": {},
     "output_type": "execute_result"
    }
   ],
   "source": [
    "data_coursera_reseñas.rating.max()"
   ]
  },
  {
   "cell_type": "code",
   "execution_count": 10,
   "metadata": {},
   "outputs": [
    {
     "data": {
      "text/html": [
       "<div>\n",
       "<style scoped>\n",
       "    .dataframe tbody tr th:only-of-type {\n",
       "        vertical-align: middle;\n",
       "    }\n",
       "\n",
       "    .dataframe tbody tr th {\n",
       "        vertical-align: top;\n",
       "    }\n",
       "\n",
       "    .dataframe thead th {\n",
       "        text-align: right;\n",
       "    }\n",
       "</style>\n",
       "<table border=\"1\" class=\"dataframe\">\n",
       "  <thead>\n",
       "    <tr style=\"text-align: right;\">\n",
       "      <th></th>\n",
       "      <th>reviews</th>\n",
       "      <th>reviewers</th>\n",
       "      <th>date_reviews</th>\n",
       "      <th>rating</th>\n",
       "      <th>course_id</th>\n",
       "    </tr>\n",
       "  </thead>\n",
       "  <tbody>\n",
       "    <tr>\n",
       "      <th>31</th>\n",
       "      <td>Solid presentation all the way through. I real...</td>\n",
       "      <td>By Logan D</td>\n",
       "      <td>Sep 03, 2020</td>\n",
       "      <td>5</td>\n",
       "      <td>google-cbrs-cpi-training</td>\n",
       "    </tr>\n",
       "    <tr>\n",
       "      <th>32</th>\n",
       "      <td>Probably the best certification course I've ta...</td>\n",
       "      <td>By Luis M C</td>\n",
       "      <td>Nov 21, 2019</td>\n",
       "      <td>5</td>\n",
       "      <td>google-cbrs-cpi-training</td>\n",
       "    </tr>\n",
       "    <tr>\n",
       "      <th>33</th>\n",
       "      <td>The ProctorU.com system took 2 times the amoun...</td>\n",
       "      <td>By scott w</td>\n",
       "      <td>Sep 28, 2020</td>\n",
       "      <td>5</td>\n",
       "      <td>google-cbrs-cpi-training</td>\n",
       "    </tr>\n",
       "    <tr>\n",
       "      <th>34</th>\n",
       "      <td>Covered all of the required information in an ...</td>\n",
       "      <td>By Ryan H</td>\n",
       "      <td>Aug 26, 2019</td>\n",
       "      <td>5</td>\n",
       "      <td>google-cbrs-cpi-training</td>\n",
       "    </tr>\n",
       "    <tr>\n",
       "      <th>35</th>\n",
       "      <td>Great course, lectures were straight forward a...</td>\n",
       "      <td>By Samuel D</td>\n",
       "      <td>Jan 24, 2020</td>\n",
       "      <td>5</td>\n",
       "      <td>google-cbrs-cpi-training</td>\n",
       "    </tr>\n",
       "    <tr>\n",
       "      <th>...</th>\n",
       "      <td>...</td>\n",
       "      <td>...</td>\n",
       "      <td>...</td>\n",
       "      <td>...</td>\n",
       "      <td>...</td>\n",
       "    </tr>\n",
       "    <tr>\n",
       "      <th>1454706</th>\n",
       "      <td>g</td>\n",
       "      <td>By Brijesh K</td>\n",
       "      <td>Aug 25, 2020</td>\n",
       "      <td>5</td>\n",
       "      <td>computer-networking</td>\n",
       "    </tr>\n",
       "    <tr>\n",
       "      <th>1454707</th>\n",
       "      <td>.</td>\n",
       "      <td>By Vasavi V M</td>\n",
       "      <td>Jul 02, 2020</td>\n",
       "      <td>5</td>\n",
       "      <td>computer-networking</td>\n",
       "    </tr>\n",
       "    <tr>\n",
       "      <th>1454708</th>\n",
       "      <td>.</td>\n",
       "      <td>By Drishti D</td>\n",
       "      <td>Jun 20, 2020</td>\n",
       "      <td>5</td>\n",
       "      <td>computer-networking</td>\n",
       "    </tr>\n",
       "    <tr>\n",
       "      <th>1454709</th>\n",
       "      <td>.</td>\n",
       "      <td>By FAUSTINE F K</td>\n",
       "      <td>Jun 07, 2020</td>\n",
       "      <td>5</td>\n",
       "      <td>computer-networking</td>\n",
       "    </tr>\n",
       "    <tr>\n",
       "      <th>1454710</th>\n",
       "      <td>G</td>\n",
       "      <td>By Reza S</td>\n",
       "      <td>Aug 12, 2018</td>\n",
       "      <td>5</td>\n",
       "      <td>computer-networking</td>\n",
       "    </tr>\n",
       "  </tbody>\n",
       "</table>\n",
       "<p>934764 rows × 5 columns</p>\n",
       "</div>"
      ],
      "text/plain": [
       "                                                   reviews        reviewers  \\\n",
       "31       Solid presentation all the way through. I real...       By Logan D   \n",
       "32       Probably the best certification course I've ta...      By Luis M C   \n",
       "33       The ProctorU.com system took 2 times the amoun...       By scott w   \n",
       "34       Covered all of the required information in an ...        By Ryan H   \n",
       "35       Great course, lectures were straight forward a...      By Samuel D   \n",
       "...                                                    ...              ...   \n",
       "1454706                                                  g     By Brijesh K   \n",
       "1454707                                                  .    By Vasavi V M   \n",
       "1454708                                                  .     By Drishti D   \n",
       "1454709                                                  .  By FAUSTINE F K   \n",
       "1454710                                                  G        By Reza S   \n",
       "\n",
       "         date_reviews  rating                 course_id  \n",
       "31       Sep 03, 2020       5  google-cbrs-cpi-training  \n",
       "32       Nov 21, 2019       5  google-cbrs-cpi-training  \n",
       "33       Sep 28, 2020       5  google-cbrs-cpi-training  \n",
       "34       Aug 26, 2019       5  google-cbrs-cpi-training  \n",
       "35       Jan 24, 2020       5  google-cbrs-cpi-training  \n",
       "...               ...     ...                       ...  \n",
       "1454706  Aug 25, 2020       5       computer-networking  \n",
       "1454707  Jul 02, 2020       5       computer-networking  \n",
       "1454708  Jun 20, 2020       5       computer-networking  \n",
       "1454709  Jun 07, 2020       5       computer-networking  \n",
       "1454710  Aug 12, 2018       5       computer-networking  \n",
       "\n",
       "[934764 rows x 5 columns]"
      ]
     },
     "execution_count": 10,
     "metadata": {},
     "output_type": "execute_result"
    }
   ],
   "source": [
    "data_coursera_reseñas[data_coursera_reseñas.duplicated()] ## vemos si existen valores duplicados"
   ]
  },
  {
   "attachments": {},
   "cell_type": "markdown",
   "metadata": {},
   "source": [
    "En el dataset de reseñas de coursera se encuentran valores repetidos y mucho mas del 50%, eliminaremos estos datos duplicados."
   ]
  },
  {
   "cell_type": "code",
   "execution_count": 11,
   "metadata": {},
   "outputs": [],
   "source": [
    "data_coursera_reseñas.drop_duplicates(inplace=True) ##dropeamos los duplicados"
   ]
  },
  {
   "cell_type": "code",
   "execution_count": 12,
   "metadata": {},
   "outputs": [
    {
     "data": {
      "text/html": [
       "<div>\n",
       "<style scoped>\n",
       "    .dataframe tbody tr th:only-of-type {\n",
       "        vertical-align: middle;\n",
       "    }\n",
       "\n",
       "    .dataframe tbody tr th {\n",
       "        vertical-align: top;\n",
       "    }\n",
       "\n",
       "    .dataframe thead th {\n",
       "        text-align: right;\n",
       "    }\n",
       "</style>\n",
       "<table border=\"1\" class=\"dataframe\">\n",
       "  <thead>\n",
       "    <tr style=\"text-align: right;\">\n",
       "      <th></th>\n",
       "      <th>reviews</th>\n",
       "      <th>reviewers</th>\n",
       "      <th>date_reviews</th>\n",
       "      <th>rating</th>\n",
       "      <th>course_id</th>\n",
       "    </tr>\n",
       "  </thead>\n",
       "  <tbody>\n",
       "  </tbody>\n",
       "</table>\n",
       "</div>"
      ],
      "text/plain": [
       "Empty DataFrame\n",
       "Columns: [reviews, reviewers, date_reviews, rating, course_id]\n",
       "Index: []"
      ]
     },
     "execution_count": 12,
     "metadata": {},
     "output_type": "execute_result"
    }
   ],
   "source": [
    "data_coursera_reseñas[data_coursera_reseñas.duplicated()] ##verificamos "
   ]
  },
  {
   "cell_type": "code",
   "execution_count": 13,
   "metadata": {},
   "outputs": [
    {
     "data": {
      "text/plain": [
       "(519947, 5)"
      ]
     },
     "execution_count": 13,
     "metadata": {},
     "output_type": "execute_result"
    }
   ],
   "source": [
    "data_coursera_reseñas.shape ##vemos de que tamaño nos quedo el dataframe"
   ]
  },
  {
   "cell_type": "code",
   "execution_count": 14,
   "metadata": {},
   "outputs": [
    {
     "data": {
      "text/plain": [
       "reviews         56\n",
       "reviewers        0\n",
       "date_reviews     0\n",
       "rating           0\n",
       "course_id        0\n",
       "dtype: int64"
      ]
     },
     "execution_count": 14,
     "metadata": {},
     "output_type": "execute_result"
    }
   ],
   "source": [
    "data_coursera_reseñas.isna().sum() ##chequeo si hay valores nulos en la data"
   ]
  },
  {
   "cell_type": "code",
   "execution_count": 15,
   "metadata": {},
   "outputs": [],
   "source": [
    "##normalizamos la columna date_reviews al formato %Y-%m-%d\n",
    "\n",
    "data_coursera_reseñas['date_reviews'] = pd.to_datetime(data_coursera_reseñas['date_reviews'])"
   ]
  },
  {
   "cell_type": "code",
   "execution_count": 16,
   "metadata": {},
   "outputs": [
    {
     "data": {
      "text/html": [
       "<div>\n",
       "<style scoped>\n",
       "    .dataframe tbody tr th:only-of-type {\n",
       "        vertical-align: middle;\n",
       "    }\n",
       "\n",
       "    .dataframe tbody tr th {\n",
       "        vertical-align: top;\n",
       "    }\n",
       "\n",
       "    .dataframe thead th {\n",
       "        text-align: right;\n",
       "    }\n",
       "</style>\n",
       "<table border=\"1\" class=\"dataframe\">\n",
       "  <thead>\n",
       "    <tr style=\"text-align: right;\">\n",
       "      <th></th>\n",
       "      <th>reviews</th>\n",
       "      <th>reviewers</th>\n",
       "      <th>date_reviews</th>\n",
       "      <th>rating</th>\n",
       "      <th>course_id</th>\n",
       "    </tr>\n",
       "  </thead>\n",
       "  <tbody>\n",
       "    <tr>\n",
       "      <th>0</th>\n",
       "      <td>Pretty dry, but I was able to pass with just t...</td>\n",
       "      <td>By Robert S</td>\n",
       "      <td>2020-02-12</td>\n",
       "      <td>4</td>\n",
       "      <td>google-cbrs-cpi-training</td>\n",
       "    </tr>\n",
       "    <tr>\n",
       "      <th>1</th>\n",
       "      <td>would be a better experience if the video and ...</td>\n",
       "      <td>By Gabriel E R</td>\n",
       "      <td>2020-09-28</td>\n",
       "      <td>4</td>\n",
       "      <td>google-cbrs-cpi-training</td>\n",
       "    </tr>\n",
       "    <tr>\n",
       "      <th>2</th>\n",
       "      <td>Information was perfect! The program itself wa...</td>\n",
       "      <td>By Jacob D</td>\n",
       "      <td>2020-04-08</td>\n",
       "      <td>4</td>\n",
       "      <td>google-cbrs-cpi-training</td>\n",
       "    </tr>\n",
       "    <tr>\n",
       "      <th>3</th>\n",
       "      <td>A few grammatical mistakes on test made me do ...</td>\n",
       "      <td>By Dale B</td>\n",
       "      <td>2020-02-24</td>\n",
       "      <td>4</td>\n",
       "      <td>google-cbrs-cpi-training</td>\n",
       "    </tr>\n",
       "    <tr>\n",
       "      <th>4</th>\n",
       "      <td>Excellent course and the training provided was...</td>\n",
       "      <td>By Sean G</td>\n",
       "      <td>2020-06-18</td>\n",
       "      <td>4</td>\n",
       "      <td>google-cbrs-cpi-training</td>\n",
       "    </tr>\n",
       "  </tbody>\n",
       "</table>\n",
       "</div>"
      ],
      "text/plain": [
       "                                             reviews       reviewers  \\\n",
       "0  Pretty dry, but I was able to pass with just t...     By Robert S   \n",
       "1  would be a better experience if the video and ...  By Gabriel E R   \n",
       "2  Information was perfect! The program itself wa...      By Jacob D   \n",
       "3  A few grammatical mistakes on test made me do ...       By Dale B   \n",
       "4  Excellent course and the training provided was...       By Sean G   \n",
       "\n",
       "  date_reviews  rating                 course_id  \n",
       "0   2020-02-12       4  google-cbrs-cpi-training  \n",
       "1   2020-09-28       4  google-cbrs-cpi-training  \n",
       "2   2020-04-08       4  google-cbrs-cpi-training  \n",
       "3   2020-02-24       4  google-cbrs-cpi-training  \n",
       "4   2020-06-18       4  google-cbrs-cpi-training  "
      ]
     },
     "execution_count": 16,
     "metadata": {},
     "output_type": "execute_result"
    }
   ],
   "source": [
    "data_coursera_reseñas.head()##visualizamos"
   ]
  },
  {
   "cell_type": "code",
   "execution_count": 17,
   "metadata": {},
   "outputs": [],
   "source": [
    "data_coursera_reseñas.fillna(value='Sin dato', inplace=True)"
   ]
  },
  {
   "cell_type": "code",
   "execution_count": 18,
   "metadata": {},
   "outputs": [
    {
     "data": {
      "text/html": [
       "<div>\n",
       "<style scoped>\n",
       "    .dataframe tbody tr th:only-of-type {\n",
       "        vertical-align: middle;\n",
       "    }\n",
       "\n",
       "    .dataframe tbody tr th {\n",
       "        vertical-align: top;\n",
       "    }\n",
       "\n",
       "    .dataframe thead th {\n",
       "        text-align: right;\n",
       "    }\n",
       "</style>\n",
       "<table border=\"1\" class=\"dataframe\">\n",
       "  <thead>\n",
       "    <tr style=\"text-align: right;\">\n",
       "      <th></th>\n",
       "      <th>reviews</th>\n",
       "      <th>reviewers</th>\n",
       "      <th>date_reviews</th>\n",
       "      <th>rating</th>\n",
       "      <th>course_id</th>\n",
       "    </tr>\n",
       "  </thead>\n",
       "  <tbody>\n",
       "    <tr>\n",
       "      <th>0</th>\n",
       "      <td>Pretty dry, but I was able to pass with just t...</td>\n",
       "      <td>By Robert S</td>\n",
       "      <td>2020-02-12</td>\n",
       "      <td>4</td>\n",
       "      <td>google-cbrs-cpi-training</td>\n",
       "    </tr>\n",
       "    <tr>\n",
       "      <th>1</th>\n",
       "      <td>would be a better experience if the video and ...</td>\n",
       "      <td>By Gabriel E R</td>\n",
       "      <td>2020-09-28</td>\n",
       "      <td>4</td>\n",
       "      <td>google-cbrs-cpi-training</td>\n",
       "    </tr>\n",
       "    <tr>\n",
       "      <th>2</th>\n",
       "      <td>Information was perfect! The program itself wa...</td>\n",
       "      <td>By Jacob D</td>\n",
       "      <td>2020-04-08</td>\n",
       "      <td>4</td>\n",
       "      <td>google-cbrs-cpi-training</td>\n",
       "    </tr>\n",
       "    <tr>\n",
       "      <th>3</th>\n",
       "      <td>A few grammatical mistakes on test made me do ...</td>\n",
       "      <td>By Dale B</td>\n",
       "      <td>2020-02-24</td>\n",
       "      <td>4</td>\n",
       "      <td>google-cbrs-cpi-training</td>\n",
       "    </tr>\n",
       "    <tr>\n",
       "      <th>4</th>\n",
       "      <td>Excellent course and the training provided was...</td>\n",
       "      <td>By Sean G</td>\n",
       "      <td>2020-06-18</td>\n",
       "      <td>4</td>\n",
       "      <td>google-cbrs-cpi-training</td>\n",
       "    </tr>\n",
       "    <tr>\n",
       "      <th>5</th>\n",
       "      <td>Some of the quizzes contained material not exp...</td>\n",
       "      <td>By Daniel F</td>\n",
       "      <td>2019-12-23</td>\n",
       "      <td>4</td>\n",
       "      <td>google-cbrs-cpi-training</td>\n",
       "    </tr>\n",
       "    <tr>\n",
       "      <th>6</th>\n",
       "      <td>Solid presentation all the way through. I real...</td>\n",
       "      <td>By Logan D</td>\n",
       "      <td>2020-09-03</td>\n",
       "      <td>5</td>\n",
       "      <td>google-cbrs-cpi-training</td>\n",
       "    </tr>\n",
       "    <tr>\n",
       "      <th>7</th>\n",
       "      <td>Probably the best certification course I've ta...</td>\n",
       "      <td>By Luis M C</td>\n",
       "      <td>2019-11-21</td>\n",
       "      <td>5</td>\n",
       "      <td>google-cbrs-cpi-training</td>\n",
       "    </tr>\n",
       "    <tr>\n",
       "      <th>8</th>\n",
       "      <td>The ProctorU.com system took 2 times the amoun...</td>\n",
       "      <td>By scott w</td>\n",
       "      <td>2020-09-28</td>\n",
       "      <td>5</td>\n",
       "      <td>google-cbrs-cpi-training</td>\n",
       "    </tr>\n",
       "    <tr>\n",
       "      <th>9</th>\n",
       "      <td>Covered all of the required information in an ...</td>\n",
       "      <td>By Ryan H</td>\n",
       "      <td>2019-08-26</td>\n",
       "      <td>5</td>\n",
       "      <td>google-cbrs-cpi-training</td>\n",
       "    </tr>\n",
       "    <tr>\n",
       "      <th>10</th>\n",
       "      <td>Great course, lectures were straight forward a...</td>\n",
       "      <td>By Samuel D</td>\n",
       "      <td>2020-01-24</td>\n",
       "      <td>5</td>\n",
       "      <td>google-cbrs-cpi-training</td>\n",
       "    </tr>\n",
       "    <tr>\n",
       "      <th>11</th>\n",
       "      <td>The course was straight forward and prepared m...</td>\n",
       "      <td>By Scot A W</td>\n",
       "      <td>2020-05-01</td>\n",
       "      <td>5</td>\n",
       "      <td>google-cbrs-cpi-training</td>\n",
       "    </tr>\n",
       "    <tr>\n",
       "      <th>12</th>\n",
       "      <td>Pretty well designed course. Few things on the...</td>\n",
       "      <td>By Jonathan L</td>\n",
       "      <td>2020-01-17</td>\n",
       "      <td>5</td>\n",
       "      <td>google-cbrs-cpi-training</td>\n",
       "    </tr>\n",
       "    <tr>\n",
       "      <th>13</th>\n",
       "      <td>Great course, i have feedback about one questi...</td>\n",
       "      <td>By Geoff T</td>\n",
       "      <td>2019-07-21</td>\n",
       "      <td>5</td>\n",
       "      <td>google-cbrs-cpi-training</td>\n",
       "    </tr>\n",
       "    <tr>\n",
       "      <th>14</th>\n",
       "      <td>The course was fine but I never received an em...</td>\n",
       "      <td>By William J</td>\n",
       "      <td>2019-06-07</td>\n",
       "      <td>5</td>\n",
       "      <td>google-cbrs-cpi-training</td>\n",
       "    </tr>\n",
       "    <tr>\n",
       "      <th>15</th>\n",
       "      <td>Well presented course material that takes you ...</td>\n",
       "      <td>By Ariel R</td>\n",
       "      <td>2019-09-27</td>\n",
       "      <td>5</td>\n",
       "      <td>google-cbrs-cpi-training</td>\n",
       "    </tr>\n",
       "    <tr>\n",
       "      <th>16</th>\n",
       "      <td>Course is easy enough if you have a basic back...</td>\n",
       "      <td>By Austin N</td>\n",
       "      <td>2019-12-27</td>\n",
       "      <td>5</td>\n",
       "      <td>google-cbrs-cpi-training</td>\n",
       "    </tr>\n",
       "    <tr>\n",
       "      <th>17</th>\n",
       "      <td>The instructions were clear and concise. I enj...</td>\n",
       "      <td>By Jayson P J</td>\n",
       "      <td>2019-11-22</td>\n",
       "      <td>5</td>\n",
       "      <td>google-cbrs-cpi-training</td>\n",
       "    </tr>\n",
       "    <tr>\n",
       "      <th>18</th>\n",
       "      <td>Easy to follow. Did a good job at teaching me ...</td>\n",
       "      <td>By Robert S</td>\n",
       "      <td>2019-11-07</td>\n",
       "      <td>5</td>\n",
       "      <td>google-cbrs-cpi-training</td>\n",
       "    </tr>\n",
       "    <tr>\n",
       "      <th>19</th>\n",
       "      <td>Excellent Training, More than enough to pass t...</td>\n",
       "      <td>By Scott C</td>\n",
       "      <td>2020-09-02</td>\n",
       "      <td>5</td>\n",
       "      <td>google-cbrs-cpi-training</td>\n",
       "    </tr>\n",
       "    <tr>\n",
       "      <th>20</th>\n",
       "      <td>very helpful informative course to get CPI cer...</td>\n",
       "      <td>By Wei W</td>\n",
       "      <td>2020-03-23</td>\n",
       "      <td>5</td>\n",
       "      <td>google-cbrs-cpi-training</td>\n",
       "    </tr>\n",
       "    <tr>\n",
       "      <th>21</th>\n",
       "      <td>Material covered well, and easy to use applica...</td>\n",
       "      <td>By Hugh H</td>\n",
       "      <td>2019-09-01</td>\n",
       "      <td>5</td>\n",
       "      <td>google-cbrs-cpi-training</td>\n",
       "    </tr>\n",
       "    <tr>\n",
       "      <th>22</th>\n",
       "      <td>Was able to knock it out in a day very good info.</td>\n",
       "      <td>By Jesse E</td>\n",
       "      <td>2020-09-23</td>\n",
       "      <td>5</td>\n",
       "      <td>google-cbrs-cpi-training</td>\n",
       "    </tr>\n",
       "    <tr>\n",
       "      <th>23</th>\n",
       "      <td>easy to follow along with and understand</td>\n",
       "      <td>By Aaron M</td>\n",
       "      <td>2019-10-30</td>\n",
       "      <td>5</td>\n",
       "      <td>google-cbrs-cpi-training</td>\n",
       "    </tr>\n",
       "    <tr>\n",
       "      <th>24</th>\n",
       "      <td>online learning was great</td>\n",
       "      <td>By Hoang D</td>\n",
       "      <td>2020-04-03</td>\n",
       "      <td>5</td>\n",
       "      <td>google-cbrs-cpi-training</td>\n",
       "    </tr>\n",
       "    <tr>\n",
       "      <th>25</th>\n",
       "      <td>Very well explained.</td>\n",
       "      <td>By Century S</td>\n",
       "      <td>2020-02-25</td>\n",
       "      <td>5</td>\n",
       "      <td>google-cbrs-cpi-training</td>\n",
       "    </tr>\n",
       "    <tr>\n",
       "      <th>26</th>\n",
       "      <td>Excellent course!</td>\n",
       "      <td>By Dan S</td>\n",
       "      <td>2020-02-13</td>\n",
       "      <td>5</td>\n",
       "      <td>google-cbrs-cpi-training</td>\n",
       "    </tr>\n",
       "    <tr>\n",
       "      <th>27</th>\n",
       "      <td>Great course.</td>\n",
       "      <td>By Andrew J H</td>\n",
       "      <td>2020-08-30</td>\n",
       "      <td>5</td>\n",
       "      <td>google-cbrs-cpi-training</td>\n",
       "    </tr>\n",
       "    <tr>\n",
       "      <th>28</th>\n",
       "      <td>Great course</td>\n",
       "      <td>By KARAN K S</td>\n",
       "      <td>2020-08-17</td>\n",
       "      <td>5</td>\n",
       "      <td>google-cbrs-cpi-training</td>\n",
       "    </tr>\n",
       "    <tr>\n",
       "      <th>29</th>\n",
       "      <td>Great course</td>\n",
       "      <td>By Landon S</td>\n",
       "      <td>2020-02-09</td>\n",
       "      <td>5</td>\n",
       "      <td>google-cbrs-cpi-training</td>\n",
       "    </tr>\n",
       "    <tr>\n",
       "      <th>30</th>\n",
       "      <td>Great course</td>\n",
       "      <td>By Mark B</td>\n",
       "      <td>2019-12-03</td>\n",
       "      <td>5</td>\n",
       "      <td>google-cbrs-cpi-training</td>\n",
       "    </tr>\n",
       "    <tr>\n",
       "      <th>81</th>\n",
       "      <td>Great Job!</td>\n",
       "      <td>By Brian M</td>\n",
       "      <td>2019-07-17</td>\n",
       "      <td>5</td>\n",
       "      <td>google-cbrs-cpi-training</td>\n",
       "    </tr>\n",
       "    <tr>\n",
       "      <th>82</th>\n",
       "      <td>WOOOO</td>\n",
       "      <td>By Del S</td>\n",
       "      <td>2019-11-14</td>\n",
       "      <td>5</td>\n",
       "      <td>google-cbrs-cpi-training</td>\n",
       "    </tr>\n",
       "    <tr>\n",
       "      <th>87</th>\n",
       "      <td>This course is virtually worthless. I couldn't...</td>\n",
       "      <td>By James R</td>\n",
       "      <td>2019-04-23</td>\n",
       "      <td>1</td>\n",
       "      <td>financial-markets-global</td>\n",
       "    </tr>\n",
       "    <tr>\n",
       "      <th>88</th>\n",
       "      <td>This course was horrible! The Content was very...</td>\n",
       "      <td>By Sanam P</td>\n",
       "      <td>2017-10-22</td>\n",
       "      <td>1</td>\n",
       "      <td>financial-markets-global</td>\n",
       "    </tr>\n",
       "    <tr>\n",
       "      <th>89</th>\n",
       "      <td>Terrible lecturer. Maybe he should retire. He ...</td>\n",
       "      <td>By Brendan F</td>\n",
       "      <td>2019-01-29</td>\n",
       "      <td>1</td>\n",
       "      <td>financial-markets-global</td>\n",
       "    </tr>\n",
       "    <tr>\n",
       "      <th>90</th>\n",
       "      <td>This course was aweful! I feel like I didnt le...</td>\n",
       "      <td>By Eli</td>\n",
       "      <td>2017-09-18</td>\n",
       "      <td>1</td>\n",
       "      <td>financial-markets-global</td>\n",
       "    </tr>\n",
       "    <tr>\n",
       "      <th>91</th>\n",
       "      <td>I was expecting more from the course. It is ve...</td>\n",
       "      <td>By Sebastian S</td>\n",
       "      <td>2020-01-05</td>\n",
       "      <td>1</td>\n",
       "      <td>financial-markets-global</td>\n",
       "    </tr>\n",
       "    <tr>\n",
       "      <th>92</th>\n",
       "      <td>It was not very interesting. The course needs ...</td>\n",
       "      <td>By Aniket G</td>\n",
       "      <td>2019-05-19</td>\n",
       "      <td>1</td>\n",
       "      <td>financial-markets-global</td>\n",
       "    </tr>\n",
       "    <tr>\n",
       "      <th>93</th>\n",
       "      <td>very confusing and doesn't seem connected or flow</td>\n",
       "      <td>By Lena P</td>\n",
       "      <td>2020-04-14</td>\n",
       "      <td>1</td>\n",
       "      <td>financial-markets-global</td>\n",
       "    </tr>\n",
       "    <tr>\n",
       "      <th>94</th>\n",
       "      <td>This was a terrible course.</td>\n",
       "      <td>By Rose-Emily C</td>\n",
       "      <td>2019-10-09</td>\n",
       "      <td>1</td>\n",
       "      <td>financial-markets-global</td>\n",
       "    </tr>\n",
       "    <tr>\n",
       "      <th>95</th>\n",
       "      <td>Poorly produced.</td>\n",
       "      <td>By Tahseen S</td>\n",
       "      <td>2020-03-11</td>\n",
       "      <td>1</td>\n",
       "      <td>financial-markets-global</td>\n",
       "    </tr>\n",
       "    <tr>\n",
       "      <th>96</th>\n",
       "      <td>I find the professor is hard to understand bec...</td>\n",
       "      <td>By David S</td>\n",
       "      <td>2020-05-28</td>\n",
       "      <td>1</td>\n",
       "      <td>financial-markets-global</td>\n",
       "    </tr>\n",
       "    <tr>\n",
       "      <th>97</th>\n",
       "      <td>Don't waste your time! It's unstructured pile ...</td>\n",
       "      <td>By Sergey F</td>\n",
       "      <td>2020-05-02</td>\n",
       "      <td>1</td>\n",
       "      <td>financial-markets-global</td>\n",
       "    </tr>\n",
       "    <tr>\n",
       "      <th>98</th>\n",
       "      <td>too short videos</td>\n",
       "      <td>By Sudiksha</td>\n",
       "      <td>2019-09-01</td>\n",
       "      <td>1</td>\n",
       "      <td>financial-markets-global</td>\n",
       "    </tr>\n",
       "    <tr>\n",
       "      <th>99</th>\n",
       "      <td>As it was highlighted as free course with cert...</td>\n",
       "      <td>By  K</td>\n",
       "      <td>2020-04-13</td>\n",
       "      <td>1</td>\n",
       "      <td>financial-markets-global</td>\n",
       "    </tr>\n",
       "    <tr>\n",
       "      <th>100</th>\n",
       "      <td>Not at all legitimate course. The concepts and...</td>\n",
       "      <td>By Shivam S</td>\n",
       "      <td>2020-05-10</td>\n",
       "      <td>1</td>\n",
       "      <td>financial-markets-global</td>\n",
       "    </tr>\n",
       "    <tr>\n",
       "      <th>101</th>\n",
       "      <td>Honestly, this course could have been a lot be...</td>\n",
       "      <td>By Abhishek V</td>\n",
       "      <td>2020-07-18</td>\n",
       "      <td>1</td>\n",
       "      <td>financial-markets-global</td>\n",
       "    </tr>\n",
       "    <tr>\n",
       "      <th>102</th>\n",
       "      <td>waste of time, I could not understand properly...</td>\n",
       "      <td>By Sara G</td>\n",
       "      <td>2020-05-03</td>\n",
       "      <td>1</td>\n",
       "      <td>financial-markets-global</td>\n",
       "    </tr>\n",
       "    <tr>\n",
       "      <th>103</th>\n",
       "      <td>the pace is extremely monotonous and it makes ...</td>\n",
       "      <td>By Tanay T</td>\n",
       "      <td>2020-04-19</td>\n",
       "      <td>1</td>\n",
       "      <td>financial-markets-global</td>\n",
       "    </tr>\n",
       "  </tbody>\n",
       "</table>\n",
       "</div>"
      ],
      "text/plain": [
       "                                               reviews        reviewers  \\\n",
       "0    Pretty dry, but I was able to pass with just t...      By Robert S   \n",
       "1    would be a better experience if the video and ...   By Gabriel E R   \n",
       "2    Information was perfect! The program itself wa...       By Jacob D   \n",
       "3    A few grammatical mistakes on test made me do ...        By Dale B   \n",
       "4    Excellent course and the training provided was...        By Sean G   \n",
       "5    Some of the quizzes contained material not exp...      By Daniel F   \n",
       "6    Solid presentation all the way through. I real...       By Logan D   \n",
       "7    Probably the best certification course I've ta...      By Luis M C   \n",
       "8    The ProctorU.com system took 2 times the amoun...       By scott w   \n",
       "9    Covered all of the required information in an ...        By Ryan H   \n",
       "10   Great course, lectures were straight forward a...      By Samuel D   \n",
       "11   The course was straight forward and prepared m...      By Scot A W   \n",
       "12   Pretty well designed course. Few things on the...    By Jonathan L   \n",
       "13   Great course, i have feedback about one questi...       By Geoff T   \n",
       "14   The course was fine but I never received an em...     By William J   \n",
       "15   Well presented course material that takes you ...       By Ariel R   \n",
       "16   Course is easy enough if you have a basic back...      By Austin N   \n",
       "17   The instructions were clear and concise. I enj...    By Jayson P J   \n",
       "18   Easy to follow. Did a good job at teaching me ...      By Robert S   \n",
       "19   Excellent Training, More than enough to pass t...       By Scott C   \n",
       "20   very helpful informative course to get CPI cer...         By Wei W   \n",
       "21   Material covered well, and easy to use applica...        By Hugh H   \n",
       "22   Was able to knock it out in a day very good info.       By Jesse E   \n",
       "23            easy to follow along with and understand       By Aaron M   \n",
       "24                           online learning was great       By Hoang D   \n",
       "25                                Very well explained.     By Century S   \n",
       "26                                   Excellent course!         By Dan S   \n",
       "27                                       Great course.    By Andrew J H   \n",
       "28                                       Great course      By KARAN K S   \n",
       "29                                        Great course      By Landon S   \n",
       "30                                        Great course        By Mark B   \n",
       "81                                          Great Job!       By Brian M   \n",
       "82                                               WOOOO         By Del S   \n",
       "87   This course is virtually worthless. I couldn't...       By James R   \n",
       "88   This course was horrible! The Content was very...       By Sanam P   \n",
       "89   Terrible lecturer. Maybe he should retire. He ...     By Brendan F   \n",
       "90   This course was aweful! I feel like I didnt le...           By Eli   \n",
       "91   I was expecting more from the course. It is ve...   By Sebastian S   \n",
       "92   It was not very interesting. The course needs ...      By Aniket G   \n",
       "93   very confusing and doesn't seem connected or flow        By Lena P   \n",
       "94                        This was a terrible course.   By Rose-Emily C   \n",
       "95                                   Poorly produced.      By Tahseen S   \n",
       "96   I find the professor is hard to understand bec...       By David S   \n",
       "97   Don't waste your time! It's unstructured pile ...      By Sergey F   \n",
       "98                                    too short videos      By Sudiksha   \n",
       "99   As it was highlighted as free course with cert...            By  K   \n",
       "100  Not at all legitimate course. The concepts and...      By Shivam S   \n",
       "101  Honestly, this course could have been a lot be...    By Abhishek V   \n",
       "102  waste of time, I could not understand properly...        By Sara G   \n",
       "103  the pace is extremely monotonous and it makes ...       By Tanay T   \n",
       "\n",
       "    date_reviews  rating                 course_id  \n",
       "0     2020-02-12       4  google-cbrs-cpi-training  \n",
       "1     2020-09-28       4  google-cbrs-cpi-training  \n",
       "2     2020-04-08       4  google-cbrs-cpi-training  \n",
       "3     2020-02-24       4  google-cbrs-cpi-training  \n",
       "4     2020-06-18       4  google-cbrs-cpi-training  \n",
       "5     2019-12-23       4  google-cbrs-cpi-training  \n",
       "6     2020-09-03       5  google-cbrs-cpi-training  \n",
       "7     2019-11-21       5  google-cbrs-cpi-training  \n",
       "8     2020-09-28       5  google-cbrs-cpi-training  \n",
       "9     2019-08-26       5  google-cbrs-cpi-training  \n",
       "10    2020-01-24       5  google-cbrs-cpi-training  \n",
       "11    2020-05-01       5  google-cbrs-cpi-training  \n",
       "12    2020-01-17       5  google-cbrs-cpi-training  \n",
       "13    2019-07-21       5  google-cbrs-cpi-training  \n",
       "14    2019-06-07       5  google-cbrs-cpi-training  \n",
       "15    2019-09-27       5  google-cbrs-cpi-training  \n",
       "16    2019-12-27       5  google-cbrs-cpi-training  \n",
       "17    2019-11-22       5  google-cbrs-cpi-training  \n",
       "18    2019-11-07       5  google-cbrs-cpi-training  \n",
       "19    2020-09-02       5  google-cbrs-cpi-training  \n",
       "20    2020-03-23       5  google-cbrs-cpi-training  \n",
       "21    2019-09-01       5  google-cbrs-cpi-training  \n",
       "22    2020-09-23       5  google-cbrs-cpi-training  \n",
       "23    2019-10-30       5  google-cbrs-cpi-training  \n",
       "24    2020-04-03       5  google-cbrs-cpi-training  \n",
       "25    2020-02-25       5  google-cbrs-cpi-training  \n",
       "26    2020-02-13       5  google-cbrs-cpi-training  \n",
       "27    2020-08-30       5  google-cbrs-cpi-training  \n",
       "28    2020-08-17       5  google-cbrs-cpi-training  \n",
       "29    2020-02-09       5  google-cbrs-cpi-training  \n",
       "30    2019-12-03       5  google-cbrs-cpi-training  \n",
       "81    2019-07-17       5  google-cbrs-cpi-training  \n",
       "82    2019-11-14       5  google-cbrs-cpi-training  \n",
       "87    2019-04-23       1  financial-markets-global  \n",
       "88    2017-10-22       1  financial-markets-global  \n",
       "89    2019-01-29       1  financial-markets-global  \n",
       "90    2017-09-18       1  financial-markets-global  \n",
       "91    2020-01-05       1  financial-markets-global  \n",
       "92    2019-05-19       1  financial-markets-global  \n",
       "93    2020-04-14       1  financial-markets-global  \n",
       "94    2019-10-09       1  financial-markets-global  \n",
       "95    2020-03-11       1  financial-markets-global  \n",
       "96    2020-05-28       1  financial-markets-global  \n",
       "97    2020-05-02       1  financial-markets-global  \n",
       "98    2019-09-01       1  financial-markets-global  \n",
       "99    2020-04-13       1  financial-markets-global  \n",
       "100   2020-05-10       1  financial-markets-global  \n",
       "101   2020-07-18       1  financial-markets-global  \n",
       "102   2020-05-03       1  financial-markets-global  \n",
       "103   2020-04-19       1  financial-markets-global  "
      ]
     },
     "execution_count": 18,
     "metadata": {},
     "output_type": "execute_result"
    }
   ],
   "source": [
    "data_coursera_reseñas.head(50)"
   ]
  },
  {
   "cell_type": "code",
   "execution_count": 19,
   "metadata": {},
   "outputs": [
    {
     "data": {
      "text/plain": [
       "reviews         0\n",
       "reviewers       0\n",
       "date_reviews    0\n",
       "rating          0\n",
       "course_id       0\n",
       "dtype: int64"
      ]
     },
     "execution_count": 19,
     "metadata": {},
     "output_type": "execute_result"
    }
   ],
   "source": [
    "data_coursera_reseñas.isna().sum() #verificamos que no hayan nulos"
   ]
  },
  {
   "cell_type": "code",
   "execution_count": 20,
   "metadata": {},
   "outputs": [
    {
     "data": {
      "text/plain": [
       "1"
      ]
     },
     "execution_count": 20,
     "metadata": {},
     "output_type": "execute_result"
    }
   ],
   "source": [
    "data_coursera_reseñas['rating'].min() ##vemos el valor minimo del rating"
   ]
  },
  {
   "cell_type": "code",
   "execution_count": 21,
   "metadata": {},
   "outputs": [
    {
     "data": {
      "text/plain": [
       "5"
      ]
     },
     "execution_count": 21,
     "metadata": {},
     "output_type": "execute_result"
    }
   ],
   "source": [
    "data_coursera_reseñas['rating'].max() ##vemos el valor maximo del rating"
   ]
  },
  {
   "attachments": {},
   "cell_type": "markdown",
   "metadata": {},
   "source": [
    "                                                    EDX COURSES"
   ]
  },
  {
   "cell_type": "code",
   "execution_count": 22,
   "metadata": {},
   "outputs": [
    {
     "data": {
      "text/html": [
       "<div>\n",
       "<style scoped>\n",
       "    .dataframe tbody tr th:only-of-type {\n",
       "        vertical-align: middle;\n",
       "    }\n",
       "\n",
       "    .dataframe tbody tr th {\n",
       "        vertical-align: top;\n",
       "    }\n",
       "\n",
       "    .dataframe thead th {\n",
       "        text-align: right;\n",
       "    }\n",
       "</style>\n",
       "<table border=\"1\" class=\"dataframe\">\n",
       "  <thead>\n",
       "    <tr style=\"text-align: right;\">\n",
       "      <th></th>\n",
       "      <th>title</th>\n",
       "      <th>summary</th>\n",
       "      <th>n_enrolled</th>\n",
       "      <th>course_type</th>\n",
       "      <th>institution</th>\n",
       "      <th>instructors</th>\n",
       "      <th>Level</th>\n",
       "      <th>subject</th>\n",
       "      <th>language</th>\n",
       "      <th>subtitles</th>\n",
       "      <th>course_effort</th>\n",
       "      <th>course_length</th>\n",
       "      <th>price</th>\n",
       "      <th>course_description</th>\n",
       "      <th>course_syllabus</th>\n",
       "      <th>course_url</th>\n",
       "    </tr>\n",
       "  </thead>\n",
       "  <tbody>\n",
       "    <tr>\n",
       "      <th>0</th>\n",
       "      <td>How to Learn Online</td>\n",
       "      <td>Learn essential strategies for successful onli...</td>\n",
       "      <td>124,980</td>\n",
       "      <td>Self-paced on your time</td>\n",
       "      <td>edX</td>\n",
       "      <td>Nina Huntemann-Robyn Belair-Ben Piscopo</td>\n",
       "      <td>Introductory</td>\n",
       "      <td>Education &amp; Teacher Training</td>\n",
       "      <td>English</td>\n",
       "      <td>English</td>\n",
       "      <td>2–3 hours per week</td>\n",
       "      <td>2 Weeks</td>\n",
       "      <td>FREE-Add a Verified Certificate for $49 USD</td>\n",
       "      <td>Designed for those who are new to elearning, t...</td>\n",
       "      <td>Welcome - We start with opportunities to meet ...</td>\n",
       "      <td>https://www.edx.org/course/how-to-learn-online</td>\n",
       "    </tr>\n",
       "    <tr>\n",
       "      <th>1</th>\n",
       "      <td>Programming for Everybody (Getting Started wit...</td>\n",
       "      <td>This course is a \"no prerequisite\" introductio...</td>\n",
       "      <td>293,864</td>\n",
       "      <td>Self-paced on your time</td>\n",
       "      <td>The University of Michigan</td>\n",
       "      <td>Charles Severance</td>\n",
       "      <td>Introductory</td>\n",
       "      <td>Computer Science</td>\n",
       "      <td>English</td>\n",
       "      <td>English</td>\n",
       "      <td>2–4 hours per week</td>\n",
       "      <td>7 Weeks</td>\n",
       "      <td>FREE-Add a Verified Certificate for $49 USD</td>\n",
       "      <td>This course aims to teach everyone the basics ...</td>\n",
       "      <td>NaN</td>\n",
       "      <td>https://www.edx.org/course/programming-for-eve...</td>\n",
       "    </tr>\n",
       "    <tr>\n",
       "      <th>2</th>\n",
       "      <td>CS50's Introduction to Computer Science</td>\n",
       "      <td>An introduction to the intellectual enterprise...</td>\n",
       "      <td>2,442,271</td>\n",
       "      <td>Self-paced on your time</td>\n",
       "      <td>Harvard University</td>\n",
       "      <td>David J. Malan-Doug Lloyd-Brian Yu</td>\n",
       "      <td>Introductory</td>\n",
       "      <td>Computer Science</td>\n",
       "      <td>English</td>\n",
       "      <td>English</td>\n",
       "      <td>6–18 hours per week</td>\n",
       "      <td>12 Weeks</td>\n",
       "      <td>FREE-Add a Verified Certificate for $90 USD</td>\n",
       "      <td>This is CS50x , Harvard University's introduct...</td>\n",
       "      <td>NaN</td>\n",
       "      <td>https://www.edx.org/course/cs50s-introduction-...</td>\n",
       "    </tr>\n",
       "    <tr>\n",
       "      <th>3</th>\n",
       "      <td>The Analytics Edge</td>\n",
       "      <td>Through inspiring examples and stories, discov...</td>\n",
       "      <td>129,555</td>\n",
       "      <td>Instructor-led on a course schedule</td>\n",
       "      <td>Massachusetts Institute of Technology</td>\n",
       "      <td>Dimitris Bertsimas-Allison O'Hair-John Silberh...</td>\n",
       "      <td>Intermediate</td>\n",
       "      <td>Data Analysis &amp; Statistics</td>\n",
       "      <td>English</td>\n",
       "      <td>English</td>\n",
       "      <td>10–15 hours per week</td>\n",
       "      <td>13 Weeks</td>\n",
       "      <td>FREE-Add a Verified Certificate for $199 USD</td>\n",
       "      <td>In the last decade, the amount of data availab...</td>\n",
       "      <td>NaN</td>\n",
       "      <td>https://www.edx.org/course/the-analytics-edge</td>\n",
       "    </tr>\n",
       "    <tr>\n",
       "      <th>4</th>\n",
       "      <td>Marketing Analytics: Marketing Measurement Str...</td>\n",
       "      <td>This course is part of a MicroMasters® Program</td>\n",
       "      <td>81,140</td>\n",
       "      <td>Self-paced on your time</td>\n",
       "      <td>University of California, Berkeley</td>\n",
       "      <td>Stephan Sorger</td>\n",
       "      <td>Introductory</td>\n",
       "      <td>Computer Science</td>\n",
       "      <td>English</td>\n",
       "      <td>English</td>\n",
       "      <td>5–7 hours per week</td>\n",
       "      <td>4 Weeks</td>\n",
       "      <td>FREE-Add a Verified Certificate for $249 USD</td>\n",
       "      <td>Begin your journey in a new career in marketin...</td>\n",
       "      <td>NaN</td>\n",
       "      <td>https://www.edx.org/course/marketing-analytics...</td>\n",
       "    </tr>\n",
       "  </tbody>\n",
       "</table>\n",
       "</div>"
      ],
      "text/plain": [
       "                                               title  \\\n",
       "0                                How to Learn Online   \n",
       "1  Programming for Everybody (Getting Started wit...   \n",
       "2            CS50's Introduction to Computer Science   \n",
       "3                                 The Analytics Edge   \n",
       "4  Marketing Analytics: Marketing Measurement Str...   \n",
       "\n",
       "                                             summary n_enrolled  \\\n",
       "0  Learn essential strategies for successful onli...    124,980   \n",
       "1  This course is a \"no prerequisite\" introductio...    293,864   \n",
       "2  An introduction to the intellectual enterprise...  2,442,271   \n",
       "3  Through inspiring examples and stories, discov...    129,555   \n",
       "4     This course is part of a MicroMasters® Program     81,140   \n",
       "\n",
       "                           course_type                            institution  \\\n",
       "0              Self-paced on your time                                    edX   \n",
       "1              Self-paced on your time             The University of Michigan   \n",
       "2              Self-paced on your time                     Harvard University   \n",
       "3  Instructor-led on a course schedule  Massachusetts Institute of Technology   \n",
       "4              Self-paced on your time     University of California, Berkeley   \n",
       "\n",
       "                                         instructors         Level  \\\n",
       "0            Nina Huntemann-Robyn Belair-Ben Piscopo  Introductory   \n",
       "1                                  Charles Severance  Introductory   \n",
       "2                 David J. Malan-Doug Lloyd-Brian Yu  Introductory   \n",
       "3  Dimitris Bertsimas-Allison O'Hair-John Silberh...  Intermediate   \n",
       "4                                     Stephan Sorger  Introductory   \n",
       "\n",
       "                        subject language subtitles         course_effort  \\\n",
       "0  Education & Teacher Training  English   English    2–3 hours per week   \n",
       "1              Computer Science  English   English    2–4 hours per week   \n",
       "2              Computer Science  English   English   6–18 hours per week   \n",
       "3    Data Analysis & Statistics  English   English  10–15 hours per week   \n",
       "4              Computer Science  English   English    5–7 hours per week   \n",
       "\n",
       "  course_length                                         price  \\\n",
       "0       2 Weeks   FREE-Add a Verified Certificate for $49 USD   \n",
       "1       7 Weeks   FREE-Add a Verified Certificate for $49 USD   \n",
       "2      12 Weeks   FREE-Add a Verified Certificate for $90 USD   \n",
       "3      13 Weeks  FREE-Add a Verified Certificate for $199 USD   \n",
       "4       4 Weeks  FREE-Add a Verified Certificate for $249 USD   \n",
       "\n",
       "                                  course_description  \\\n",
       "0  Designed for those who are new to elearning, t...   \n",
       "1  This course aims to teach everyone the basics ...   \n",
       "2  This is CS50x , Harvard University's introduct...   \n",
       "3  In the last decade, the amount of data availab...   \n",
       "4  Begin your journey in a new career in marketin...   \n",
       "\n",
       "                                     course_syllabus  \\\n",
       "0  Welcome - We start with opportunities to meet ...   \n",
       "1                                                NaN   \n",
       "2                                                NaN   \n",
       "3                                                NaN   \n",
       "4                                                NaN   \n",
       "\n",
       "                                          course_url  \n",
       "0     https://www.edx.org/course/how-to-learn-online  \n",
       "1  https://www.edx.org/course/programming-for-eve...  \n",
       "2  https://www.edx.org/course/cs50s-introduction-...  \n",
       "3      https://www.edx.org/course/the-analytics-edge  \n",
       "4  https://www.edx.org/course/marketing-analytics...  "
      ]
     },
     "execution_count": 22,
     "metadata": {},
     "output_type": "execute_result"
    }
   ],
   "source": [
    "data_edx.head() #vemos la data"
   ]
  },
  {
   "cell_type": "code",
   "execution_count": 23,
   "metadata": {},
   "outputs": [
    {
     "data": {
      "text/plain": [
       "(975, 16)"
      ]
     },
     "execution_count": 23,
     "metadata": {},
     "output_type": "execute_result"
    }
   ],
   "source": [
    "data_edx.shape ##vemos el tamaño de la data de edx"
   ]
  },
  {
   "cell_type": "code",
   "execution_count": 24,
   "metadata": {},
   "outputs": [
    {
     "data": {
      "text/plain": [
       "1"
      ]
     },
     "execution_count": 24,
     "metadata": {},
     "output_type": "execute_result"
    }
   ],
   "source": [
    "data_edx.duplicated().sum() ##chequeamos si hay valores duplicados"
   ]
  },
  {
   "cell_type": "code",
   "execution_count": 25,
   "metadata": {},
   "outputs": [],
   "source": [
    "data_edx.drop_duplicates(inplace=True) #hay un solo elemento duplicado, lo eliminamos ya que no afectará al modelo"
   ]
  },
  {
   "cell_type": "code",
   "execution_count": 26,
   "metadata": {},
   "outputs": [
    {
     "data": {
      "text/html": [
       "<div>\n",
       "<style scoped>\n",
       "    .dataframe tbody tr th:only-of-type {\n",
       "        vertical-align: middle;\n",
       "    }\n",
       "\n",
       "    .dataframe tbody tr th {\n",
       "        vertical-align: top;\n",
       "    }\n",
       "\n",
       "    .dataframe thead th {\n",
       "        text-align: right;\n",
       "    }\n",
       "</style>\n",
       "<table border=\"1\" class=\"dataframe\">\n",
       "  <thead>\n",
       "    <tr style=\"text-align: right;\">\n",
       "      <th></th>\n",
       "      <th>title</th>\n",
       "      <th>summary</th>\n",
       "      <th>n_enrolled</th>\n",
       "      <th>course_type</th>\n",
       "      <th>institution</th>\n",
       "      <th>instructors</th>\n",
       "      <th>Level</th>\n",
       "      <th>subject</th>\n",
       "      <th>language</th>\n",
       "      <th>subtitles</th>\n",
       "      <th>course_effort</th>\n",
       "      <th>course_length</th>\n",
       "      <th>price</th>\n",
       "      <th>course_description</th>\n",
       "      <th>course_syllabus</th>\n",
       "      <th>course_url</th>\n",
       "    </tr>\n",
       "  </thead>\n",
       "  <tbody>\n",
       "  </tbody>\n",
       "</table>\n",
       "</div>"
      ],
      "text/plain": [
       "Empty DataFrame\n",
       "Columns: [title, summary, n_enrolled, course_type, institution, instructors, Level, subject, language, subtitles, course_effort, course_length, price, course_description, course_syllabus, course_url]\n",
       "Index: []"
      ]
     },
     "execution_count": 26,
     "metadata": {},
     "output_type": "execute_result"
    }
   ],
   "source": [
    "data_edx[data_edx.duplicated()]"
   ]
  },
  {
   "cell_type": "code",
   "execution_count": 27,
   "metadata": {},
   "outputs": [
    {
     "data": {
      "text/plain": [
       "title                   0\n",
       "summary                53\n",
       "n_enrolled            120\n",
       "course_type             0\n",
       "institution             0\n",
       "instructors             3\n",
       "Level                   0\n",
       "subject                 0\n",
       "language                0\n",
       "subtitles               3\n",
       "course_effort           0\n",
       "course_length           0\n",
       "price                   0\n",
       "course_description     40\n",
       "course_syllabus       557\n",
       "course_url              0\n",
       "dtype: int64"
      ]
     },
     "execution_count": 27,
     "metadata": {},
     "output_type": "execute_result"
    }
   ],
   "source": [
    "data_edx.isna().sum() #visualizamos cuantos valores nulos hay por columna"
   ]
  },
  {
   "cell_type": "code",
   "execution_count": 28,
   "metadata": {},
   "outputs": [
    {
     "data": {
      "text/html": [
       "<div>\n",
       "<style scoped>\n",
       "    .dataframe tbody tr th:only-of-type {\n",
       "        vertical-align: middle;\n",
       "    }\n",
       "\n",
       "    .dataframe tbody tr th {\n",
       "        vertical-align: top;\n",
       "    }\n",
       "\n",
       "    .dataframe thead th {\n",
       "        text-align: right;\n",
       "    }\n",
       "</style>\n",
       "<table border=\"1\" class=\"dataframe\">\n",
       "  <thead>\n",
       "    <tr style=\"text-align: right;\">\n",
       "      <th></th>\n",
       "      <th>title</th>\n",
       "      <th>summary</th>\n",
       "      <th>n_enrolled</th>\n",
       "      <th>course_type</th>\n",
       "      <th>institution</th>\n",
       "      <th>instructors</th>\n",
       "      <th>Level</th>\n",
       "      <th>subject</th>\n",
       "      <th>language</th>\n",
       "      <th>subtitles</th>\n",
       "      <th>course_effort</th>\n",
       "      <th>course_length</th>\n",
       "      <th>price</th>\n",
       "      <th>course_description</th>\n",
       "      <th>course_syllabus</th>\n",
       "      <th>course_url</th>\n",
       "    </tr>\n",
       "  </thead>\n",
       "  <tbody>\n",
       "    <tr>\n",
       "      <th>390</th>\n",
       "      <td>Analytics in Python</td>\n",
       "      <td>Learn the fundamental of programming in Python...</td>\n",
       "      <td>82,210</td>\n",
       "      <td>Instructor-led on a course schedule</td>\n",
       "      <td>Columbia University</td>\n",
       "      <td>NaN</td>\n",
       "      <td>Intermediate</td>\n",
       "      <td>Business &amp; Management</td>\n",
       "      <td>English</td>\n",
       "      <td>NaN</td>\n",
       "      <td>8–10 hours per week</td>\n",
       "      <td>12 Weeks</td>\n",
       "      <td>FREE-Add a Verified Certificate for $249 USD</td>\n",
       "      <td>Data is the lifeblood of an organization. Comp...</td>\n",
       "      <td>NaN</td>\n",
       "      <td>https://www.edx.org/course/analytics-in-python</td>\n",
       "    </tr>\n",
       "    <tr>\n",
       "      <th>401</th>\n",
       "      <td>Just Reading and Writing in English | 生活英语读写</td>\n",
       "      <td>Learn how to read and write in English in the ...</td>\n",
       "      <td>33,303</td>\n",
       "      <td>Self-paced on your time</td>\n",
       "      <td>Tsinghua University</td>\n",
       "      <td>NaN</td>\n",
       "      <td>Introductory</td>\n",
       "      <td>Art &amp; Culture</td>\n",
       "      <td>English</td>\n",
       "      <td>English</td>\n",
       "      <td>2–4 hours per week</td>\n",
       "      <td>15 Weeks</td>\n",
       "      <td>FREE-Add a Verified Certificate for $149 USD</td>\n",
       "      <td>Reading enriches our life and writing enables ...</td>\n",
       "      <td>Week 1 - Learning\\nIntroduction to the problem...</td>\n",
       "      <td>https://www.edx.org/course/just-reading-and-wr...</td>\n",
       "    </tr>\n",
       "    <tr>\n",
       "      <th>516</th>\n",
       "      <td>Data, Models and Decisions in Business Analytics</td>\n",
       "      <td>Learn fundamental tools and techniques for usi...</td>\n",
       "      <td>36,289</td>\n",
       "      <td>Instructor-led on a course schedule</td>\n",
       "      <td>Columbia University</td>\n",
       "      <td>NaN</td>\n",
       "      <td>Advanced</td>\n",
       "      <td>Business &amp; Management</td>\n",
       "      <td>English</td>\n",
       "      <td>NaN</td>\n",
       "      <td>8–10 hours per week</td>\n",
       "      <td>12 Weeks</td>\n",
       "      <td>FREE-Add a Verified Certificate for $249 USD</td>\n",
       "      <td>In today’s world, managerial decisions are inc...</td>\n",
       "      <td>NaN</td>\n",
       "      <td>https://www.edx.org/course/data-models-and-dec...</td>\n",
       "    </tr>\n",
       "  </tbody>\n",
       "</table>\n",
       "</div>"
      ],
      "text/plain": [
       "                                                title  \\\n",
       "390                               Analytics in Python   \n",
       "401      Just Reading and Writing in English | 生活英语读写   \n",
       "516  Data, Models and Decisions in Business Analytics   \n",
       "\n",
       "                                               summary n_enrolled  \\\n",
       "390  Learn the fundamental of programming in Python...     82,210   \n",
       "401  Learn how to read and write in English in the ...     33,303   \n",
       "516  Learn fundamental tools and techniques for usi...     36,289   \n",
       "\n",
       "                             course_type          institution instructors  \\\n",
       "390  Instructor-led on a course schedule  Columbia University         NaN   \n",
       "401              Self-paced on your time  Tsinghua University         NaN   \n",
       "516  Instructor-led on a course schedule  Columbia University         NaN   \n",
       "\n",
       "            Level                subject language subtitles  \\\n",
       "390  Intermediate  Business & Management  English       NaN   \n",
       "401  Introductory          Art & Culture  English   English   \n",
       "516      Advanced  Business & Management  English       NaN   \n",
       "\n",
       "           course_effort course_length  \\\n",
       "390  8–10 hours per week      12 Weeks   \n",
       "401   2–4 hours per week      15 Weeks   \n",
       "516  8–10 hours per week      12 Weeks   \n",
       "\n",
       "                                            price  \\\n",
       "390  FREE-Add a Verified Certificate for $249 USD   \n",
       "401  FREE-Add a Verified Certificate for $149 USD   \n",
       "516  FREE-Add a Verified Certificate for $249 USD   \n",
       "\n",
       "                                    course_description  \\\n",
       "390  Data is the lifeblood of an organization. Comp...   \n",
       "401  Reading enriches our life and writing enables ...   \n",
       "516  In today’s world, managerial decisions are inc...   \n",
       "\n",
       "                                       course_syllabus  \\\n",
       "390                                                NaN   \n",
       "401  Week 1 - Learning\\nIntroduction to the problem...   \n",
       "516                                                NaN   \n",
       "\n",
       "                                            course_url  \n",
       "390     https://www.edx.org/course/analytics-in-python  \n",
       "401  https://www.edx.org/course/just-reading-and-wr...  \n",
       "516  https://www.edx.org/course/data-models-and-dec...  "
      ]
     },
     "execution_count": 28,
     "metadata": {},
     "output_type": "execute_result"
    }
   ],
   "source": [
    "data_edx.loc[data_edx['instructors'].isna() == True ]"
   ]
  },
  {
   "cell_type": "code",
   "execution_count": 29,
   "metadata": {},
   "outputs": [],
   "source": [
    "##dropeamos la columna course_syllabus ya que hay mas de la mitad de valores vacios\n",
    "data_edx.drop(columns={'course_syllabus'}, inplace=True)"
   ]
  },
  {
   "cell_type": "code",
   "execution_count": 30,
   "metadata": {},
   "outputs": [
    {
     "data": {
      "text/plain": [
       "title                   0\n",
       "summary                53\n",
       "n_enrolled            120\n",
       "course_type             0\n",
       "institution             0\n",
       "instructors             3\n",
       "Level                   0\n",
       "subject                 0\n",
       "language                0\n",
       "subtitles               3\n",
       "course_effort           0\n",
       "course_length           0\n",
       "price                   0\n",
       "course_description     40\n",
       "course_url              0\n",
       "dtype: int64"
      ]
     },
     "execution_count": 30,
     "metadata": {},
     "output_type": "execute_result"
    }
   ],
   "source": [
    "data_edx.isna().sum()"
   ]
  },
  {
   "cell_type": "code",
   "execution_count": 31,
   "metadata": {},
   "outputs": [],
   "source": [
    "data_edx['subtitles'].fillna(value='Sin dato', inplace=True) #Normalizamos la columna subtitles"
   ]
  },
  {
   "cell_type": "code",
   "execution_count": 32,
   "metadata": {},
   "outputs": [],
   "source": [
    "data_edx['instructors'].fillna(value='Sin dato', inplace=True) #Nomalizamos la columna instructors"
   ]
  },
  {
   "cell_type": "code",
   "execution_count": 33,
   "metadata": {},
   "outputs": [],
   "source": [
    "data_edx.rename(columns={'Level':'level'}, inplace=True) #Normalizamos la columna level"
   ]
  },
  {
   "cell_type": "code",
   "execution_count": 34,
   "metadata": {},
   "outputs": [
    {
     "data": {
      "text/plain": [
       "title                   0\n",
       "summary                53\n",
       "n_enrolled            120\n",
       "course_type             0\n",
       "institution             0\n",
       "instructors             0\n",
       "level                   0\n",
       "subject                 0\n",
       "language                0\n",
       "subtitles               0\n",
       "course_effort           0\n",
       "course_length           0\n",
       "price                   0\n",
       "course_description     40\n",
       "course_url              0\n",
       "dtype: int64"
      ]
     },
     "execution_count": 34,
     "metadata": {},
     "output_type": "execute_result"
    }
   ],
   "source": [
    "data_edx.isna().sum()"
   ]
  },
  {
   "cell_type": "code",
   "execution_count": 35,
   "metadata": {},
   "outputs": [],
   "source": [
    "\"\"\"Crearé esta función para dejar solo los caracteres numericos en la columna price\"\"\"\n",
    "def dejar_solo_cifras(txt):\n",
    "  return \"\".join(c for c in txt if c.isdigit())"
   ]
  },
  {
   "cell_type": "code",
   "execution_count": 36,
   "metadata": {},
   "outputs": [],
   "source": [
    "data_edx.price = data_edx.price.map(dejar_solo_cifras).astype(int) ##usamos la funcion creada y cambiamos el tipo de valores de la columna a int"
   ]
  },
  {
   "cell_type": "code",
   "execution_count": 37,
   "metadata": {},
   "outputs": [
    {
     "data": {
      "text/plain": [
       "5"
      ]
     },
     "execution_count": 37,
     "metadata": {},
     "output_type": "execute_result"
    }
   ],
   "source": [
    "data_edx.price.min() #vemos el valor minimo en la columna price "
   ]
  },
  {
   "cell_type": "code",
   "execution_count": 38,
   "metadata": {},
   "outputs": [
    {
     "data": {
      "text/plain": [
       "39960"
      ]
     },
     "execution_count": 38,
     "metadata": {},
     "output_type": "execute_result"
    }
   ],
   "source": [
    "data_edx.price.max() #chequeamos el valor maximo en la columna price y nos da 39960 tiene pinta de Outlier asi que utilizare\n",
    "                        #la tecnica del rango intercuartilico"
   ]
  },
  {
   "cell_type": "code",
   "execution_count": 39,
   "metadata": {},
   "outputs": [
    {
     "name": "stdout",
     "output_type": "stream",
     "text": [
      "49.0\n",
      "149.0\n",
      "100.0\n",
      "-101.0\n",
      "299.0\n"
     ]
    }
   ],
   "source": [
    "Q1 = data_edx['price'].quantile(0.25)\n",
    "Q3 = data_edx['price'].quantile(0.75)\n",
    "IQR = Q3 - Q1\n",
    "BI = Q1 - 1.5*IQR\n",
    "BS = Q3 + 1.5*IQR\n",
    "\n",
    "print(Q1)\n",
    "print(Q3)\n",
    "print(IQR)\n",
    "print(BI)\n",
    "print(BS)"
   ]
  },
  {
   "cell_type": "code",
   "execution_count": 40,
   "metadata": {},
   "outputs": [
    {
     "name": "stdout",
     "output_type": "stream",
     "text": [
      "Cantidad de registros totales: 974\n",
      "Cantidad de outliers: 18\n"
     ]
    }
   ],
   "source": [
    "print('Cantidad de registros totales:', data_edx.shape[0])   #imprimimos cantidad de datos en el dataframe\n",
    "print('Cantidad de outliers:', data_edx[(data_edx['price']<BI) | (data_edx['price']>BS)].shape[0] ) #imprimimos cantidad de outlier en la columna price"
   ]
  },
  {
   "cell_type": "code",
   "execution_count": 41,
   "metadata": {},
   "outputs": [],
   "source": [
    "##Eliminare los outlier de mi dataframe\n",
    "outlier = (data_edx['price']<BI) | (data_edx['price']>BS) \n",
    "\n",
    "data_edx = data_edx[~outlier]"
   ]
  },
  {
   "cell_type": "code",
   "execution_count": 42,
   "metadata": {},
   "outputs": [
    {
     "data": {
      "text/plain": [
       "(956, 15)"
      ]
     },
     "execution_count": 42,
     "metadata": {},
     "output_type": "execute_result"
    }
   ],
   "source": [
    "data_edx.shape #chequemos el tamaño de nuestro dataframe"
   ]
  },
  {
   "cell_type": "code",
   "execution_count": 43,
   "metadata": {},
   "outputs": [
    {
     "data": {
      "text/html": [
       "<div>\n",
       "<style scoped>\n",
       "    .dataframe tbody tr th:only-of-type {\n",
       "        vertical-align: middle;\n",
       "    }\n",
       "\n",
       "    .dataframe tbody tr th {\n",
       "        vertical-align: top;\n",
       "    }\n",
       "\n",
       "    .dataframe thead th {\n",
       "        text-align: right;\n",
       "    }\n",
       "</style>\n",
       "<table border=\"1\" class=\"dataframe\">\n",
       "  <thead>\n",
       "    <tr style=\"text-align: right;\">\n",
       "      <th></th>\n",
       "      <th>title</th>\n",
       "      <th>summary</th>\n",
       "      <th>n_enrolled</th>\n",
       "      <th>course_type</th>\n",
       "      <th>institution</th>\n",
       "      <th>instructors</th>\n",
       "      <th>level</th>\n",
       "      <th>subject</th>\n",
       "      <th>language</th>\n",
       "      <th>subtitles</th>\n",
       "      <th>course_effort</th>\n",
       "      <th>course_length</th>\n",
       "      <th>price</th>\n",
       "      <th>course_description</th>\n",
       "      <th>course_url</th>\n",
       "    </tr>\n",
       "  </thead>\n",
       "  <tbody>\n",
       "    <tr>\n",
       "      <th>0</th>\n",
       "      <td>How to Learn Online</td>\n",
       "      <td>Learn essential strategies for successful onli...</td>\n",
       "      <td>124,980</td>\n",
       "      <td>Self-paced on your time</td>\n",
       "      <td>edX</td>\n",
       "      <td>Nina Huntemann-Robyn Belair-Ben Piscopo</td>\n",
       "      <td>Introductory</td>\n",
       "      <td>Education &amp; Teacher Training</td>\n",
       "      <td>English</td>\n",
       "      <td>English</td>\n",
       "      <td>2–3 hours per week</td>\n",
       "      <td>2 Weeks</td>\n",
       "      <td>49</td>\n",
       "      <td>Designed for those who are new to elearning, t...</td>\n",
       "      <td>https://www.edx.org/course/how-to-learn-online</td>\n",
       "    </tr>\n",
       "    <tr>\n",
       "      <th>1</th>\n",
       "      <td>Programming for Everybody (Getting Started wit...</td>\n",
       "      <td>This course is a \"no prerequisite\" introductio...</td>\n",
       "      <td>293,864</td>\n",
       "      <td>Self-paced on your time</td>\n",
       "      <td>The University of Michigan</td>\n",
       "      <td>Charles Severance</td>\n",
       "      <td>Introductory</td>\n",
       "      <td>Computer Science</td>\n",
       "      <td>English</td>\n",
       "      <td>English</td>\n",
       "      <td>2–4 hours per week</td>\n",
       "      <td>7 Weeks</td>\n",
       "      <td>49</td>\n",
       "      <td>This course aims to teach everyone the basics ...</td>\n",
       "      <td>https://www.edx.org/course/programming-for-eve...</td>\n",
       "    </tr>\n",
       "    <tr>\n",
       "      <th>2</th>\n",
       "      <td>CS50's Introduction to Computer Science</td>\n",
       "      <td>An introduction to the intellectual enterprise...</td>\n",
       "      <td>2,442,271</td>\n",
       "      <td>Self-paced on your time</td>\n",
       "      <td>Harvard University</td>\n",
       "      <td>David J. Malan-Doug Lloyd-Brian Yu</td>\n",
       "      <td>Introductory</td>\n",
       "      <td>Computer Science</td>\n",
       "      <td>English</td>\n",
       "      <td>English</td>\n",
       "      <td>6–18 hours per week</td>\n",
       "      <td>12 Weeks</td>\n",
       "      <td>90</td>\n",
       "      <td>This is CS50x , Harvard University's introduct...</td>\n",
       "      <td>https://www.edx.org/course/cs50s-introduction-...</td>\n",
       "    </tr>\n",
       "    <tr>\n",
       "      <th>3</th>\n",
       "      <td>The Analytics Edge</td>\n",
       "      <td>Through inspiring examples and stories, discov...</td>\n",
       "      <td>129,555</td>\n",
       "      <td>Instructor-led on a course schedule</td>\n",
       "      <td>Massachusetts Institute of Technology</td>\n",
       "      <td>Dimitris Bertsimas-Allison O'Hair-John Silberh...</td>\n",
       "      <td>Intermediate</td>\n",
       "      <td>Data Analysis &amp; Statistics</td>\n",
       "      <td>English</td>\n",
       "      <td>English</td>\n",
       "      <td>10–15 hours per week</td>\n",
       "      <td>13 Weeks</td>\n",
       "      <td>199</td>\n",
       "      <td>In the last decade, the amount of data availab...</td>\n",
       "      <td>https://www.edx.org/course/the-analytics-edge</td>\n",
       "    </tr>\n",
       "    <tr>\n",
       "      <th>4</th>\n",
       "      <td>Marketing Analytics: Marketing Measurement Str...</td>\n",
       "      <td>This course is part of a MicroMasters® Program</td>\n",
       "      <td>81,140</td>\n",
       "      <td>Self-paced on your time</td>\n",
       "      <td>University of California, Berkeley</td>\n",
       "      <td>Stephan Sorger</td>\n",
       "      <td>Introductory</td>\n",
       "      <td>Computer Science</td>\n",
       "      <td>English</td>\n",
       "      <td>English</td>\n",
       "      <td>5–7 hours per week</td>\n",
       "      <td>4 Weeks</td>\n",
       "      <td>249</td>\n",
       "      <td>Begin your journey in a new career in marketin...</td>\n",
       "      <td>https://www.edx.org/course/marketing-analytics...</td>\n",
       "    </tr>\n",
       "  </tbody>\n",
       "</table>\n",
       "</div>"
      ],
      "text/plain": [
       "                                               title  \\\n",
       "0                                How to Learn Online   \n",
       "1  Programming for Everybody (Getting Started wit...   \n",
       "2            CS50's Introduction to Computer Science   \n",
       "3                                 The Analytics Edge   \n",
       "4  Marketing Analytics: Marketing Measurement Str...   \n",
       "\n",
       "                                             summary n_enrolled  \\\n",
       "0  Learn essential strategies for successful onli...    124,980   \n",
       "1  This course is a \"no prerequisite\" introductio...    293,864   \n",
       "2  An introduction to the intellectual enterprise...  2,442,271   \n",
       "3  Through inspiring examples and stories, discov...    129,555   \n",
       "4     This course is part of a MicroMasters® Program     81,140   \n",
       "\n",
       "                           course_type                            institution  \\\n",
       "0              Self-paced on your time                                    edX   \n",
       "1              Self-paced on your time             The University of Michigan   \n",
       "2              Self-paced on your time                     Harvard University   \n",
       "3  Instructor-led on a course schedule  Massachusetts Institute of Technology   \n",
       "4              Self-paced on your time     University of California, Berkeley   \n",
       "\n",
       "                                         instructors         level  \\\n",
       "0            Nina Huntemann-Robyn Belair-Ben Piscopo  Introductory   \n",
       "1                                  Charles Severance  Introductory   \n",
       "2                 David J. Malan-Doug Lloyd-Brian Yu  Introductory   \n",
       "3  Dimitris Bertsimas-Allison O'Hair-John Silberh...  Intermediate   \n",
       "4                                     Stephan Sorger  Introductory   \n",
       "\n",
       "                        subject language subtitles         course_effort  \\\n",
       "0  Education & Teacher Training  English   English    2–3 hours per week   \n",
       "1              Computer Science  English   English    2–4 hours per week   \n",
       "2              Computer Science  English   English   6–18 hours per week   \n",
       "3    Data Analysis & Statistics  English   English  10–15 hours per week   \n",
       "4              Computer Science  English   English    5–7 hours per week   \n",
       "\n",
       "  course_length  price                                 course_description  \\\n",
       "0       2 Weeks     49  Designed for those who are new to elearning, t...   \n",
       "1       7 Weeks     49  This course aims to teach everyone the basics ...   \n",
       "2      12 Weeks     90  This is CS50x , Harvard University's introduct...   \n",
       "3      13 Weeks    199  In the last decade, the amount of data availab...   \n",
       "4       4 Weeks    249  Begin your journey in a new career in marketin...   \n",
       "\n",
       "                                          course_url  \n",
       "0     https://www.edx.org/course/how-to-learn-online  \n",
       "1  https://www.edx.org/course/programming-for-eve...  \n",
       "2  https://www.edx.org/course/cs50s-introduction-...  \n",
       "3      https://www.edx.org/course/the-analytics-edge  \n",
       "4  https://www.edx.org/course/marketing-analytics...  "
      ]
     },
     "execution_count": 43,
     "metadata": {},
     "output_type": "execute_result"
    }
   ],
   "source": [
    "data_edx.head()"
   ]
  },
  {
   "cell_type": "code",
   "execution_count": 44,
   "metadata": {},
   "outputs": [
    {
     "data": {
      "text/plain": [
       "'This course is a \"no prerequisite\" introduction to Python Programming. You will learn about variables, conditional execution, repeated execution and how we use functions. The homework is done in a web browser so you can do all of the programming assignments on a phone or public computer.'"
      ]
     },
     "execution_count": 44,
     "metadata": {},
     "output_type": "execute_result"
    }
   ],
   "source": [
    "data_edx.iloc[1,1]"
   ]
  },
  {
   "cell_type": "code",
   "execution_count": 45,
   "metadata": {},
   "outputs": [
    {
     "data": {
      "text/plain": [
       "title                   0\n",
       "summary                53\n",
       "n_enrolled            117\n",
       "course_type             0\n",
       "institution             0\n",
       "instructors             0\n",
       "level                   0\n",
       "subject                 0\n",
       "language                0\n",
       "subtitles               0\n",
       "course_effort           0\n",
       "course_length           0\n",
       "price                   0\n",
       "course_description     40\n",
       "course_url              0\n",
       "dtype: int64"
      ]
     },
     "execution_count": 45,
     "metadata": {},
     "output_type": "execute_result"
    }
   ],
   "source": [
    "data_edx.isna().sum()"
   ]
  },
  {
   "cell_type": "code",
   "execution_count": 46,
   "metadata": {},
   "outputs": [],
   "source": [
    "data_edx_copy1 = data_edx.copy() #creamos una copia del dataframe para normalizar la columna n_enrolled"
   ]
  },
  {
   "cell_type": "code",
   "execution_count": 47,
   "metadata": {},
   "outputs": [],
   "source": [
    "#data_edx_copy.n_enrolled.fillna(value=0, inplace=True) #colocamos 0 en los valores nulos de la columna n_enrolled"
   ]
  },
  {
   "cell_type": "code",
   "execution_count": 48,
   "metadata": {},
   "outputs": [],
   "source": [
    "lista = list(data_edx_copy1['n_enrolled']) #hacemos un filtro por la columna n_enrolled y la transformamos en lista"
   ]
  },
  {
   "cell_type": "code",
   "execution_count": 49,
   "metadata": {},
   "outputs": [],
   "source": [
    "def quita_coma(num):  #creamos esta función para quitar las comas en cada valor de la lista\n",
    "    return num.replace(\",\",\"\")"
   ]
  },
  {
   "cell_type": "code",
   "execution_count": 50,
   "metadata": {},
   "outputs": [],
   "source": [
    "lista_n =  []  ##recorremos la lista con un bucle for y usamos la funcion quita_coma\n",
    "for indice, item in enumerate(lista): \n",
    "    lista_n = lista_n + [quita_coma(str(item))]"
   ]
  },
  {
   "cell_type": "code",
   "execution_count": 51,
   "metadata": {},
   "outputs": [],
   "source": [
    "def parsea(item): #creamos esta funcion para parsear los elementos de la lista a int\n",
    "    return int(item)"
   ]
  },
  {
   "cell_type": "code",
   "execution_count": 52,
   "metadata": {},
   "outputs": [
    {
     "data": {
      "text/plain": [
       "False"
      ]
     },
     "execution_count": 52,
     "metadata": {},
     "output_type": "execute_result"
    }
   ],
   "source": [
    "'0' in lista_n ##observamos si el 0 esta en la lista"
   ]
  },
  {
   "cell_type": "code",
   "execution_count": 53,
   "metadata": {},
   "outputs": [],
   "source": [
    "#ya que el 0 no esta la lista los colocare donde el valor sea nan\n",
    "\n",
    "lista_completa = []\n",
    "for item in lista_n:\n",
    "    if item == 'nan':\n",
    "        lista_completa = lista_completa + [0]\n",
    "    else:\n",
    "        lista_completa = lista_completa + [item]"
   ]
  },
  {
   "cell_type": "code",
   "execution_count": 54,
   "metadata": {},
   "outputs": [],
   "source": [
    "lista_parseada = []\n",
    "for item in lista_completa:\n",
    "    lista_parseada = lista_parseada + [int(item)]"
   ]
  },
  {
   "cell_type": "code",
   "execution_count": 55,
   "metadata": {},
   "outputs": [
    {
     "data": {
      "text/plain": [
       "True"
      ]
     },
     "execution_count": 55,
     "metadata": {},
     "output_type": "execute_result"
    }
   ],
   "source": [
    "len(lista_parseada) == data_edx_copy1.shape[0] #comprobamos si tamaño de la lista es igual al dataframe"
   ]
  },
  {
   "cell_type": "code",
   "execution_count": 56,
   "metadata": {},
   "outputs": [],
   "source": [
    "data_edx_copy1.drop(columns='n_enrolled',inplace=True) ## dropeamos la columna n_enrolled"
   ]
  },
  {
   "cell_type": "code",
   "execution_count": 57,
   "metadata": {},
   "outputs": [],
   "source": [
    "data_edx_copy1['n_enrolled'] = pd.Series(lista_parseada) ##creamos la columna n_enrolled con los valores ya normalizados"
   ]
  },
  {
   "cell_type": "code",
   "execution_count": 58,
   "metadata": {},
   "outputs": [
    {
     "data": {
      "text/html": [
       "<div>\n",
       "<style scoped>\n",
       "    .dataframe tbody tr th:only-of-type {\n",
       "        vertical-align: middle;\n",
       "    }\n",
       "\n",
       "    .dataframe tbody tr th {\n",
       "        vertical-align: top;\n",
       "    }\n",
       "\n",
       "    .dataframe thead th {\n",
       "        text-align: right;\n",
       "    }\n",
       "</style>\n",
       "<table border=\"1\" class=\"dataframe\">\n",
       "  <thead>\n",
       "    <tr style=\"text-align: right;\">\n",
       "      <th></th>\n",
       "      <th>title</th>\n",
       "      <th>summary</th>\n",
       "      <th>course_type</th>\n",
       "      <th>institution</th>\n",
       "      <th>instructors</th>\n",
       "      <th>level</th>\n",
       "      <th>subject</th>\n",
       "      <th>language</th>\n",
       "      <th>subtitles</th>\n",
       "      <th>course_effort</th>\n",
       "      <th>course_length</th>\n",
       "      <th>price</th>\n",
       "      <th>course_description</th>\n",
       "      <th>course_url</th>\n",
       "      <th>n_enrolled</th>\n",
       "    </tr>\n",
       "  </thead>\n",
       "  <tbody>\n",
       "    <tr>\n",
       "      <th>0</th>\n",
       "      <td>How to Learn Online</td>\n",
       "      <td>Learn essential strategies for successful onli...</td>\n",
       "      <td>Self-paced on your time</td>\n",
       "      <td>edX</td>\n",
       "      <td>Nina Huntemann-Robyn Belair-Ben Piscopo</td>\n",
       "      <td>Introductory</td>\n",
       "      <td>Education &amp; Teacher Training</td>\n",
       "      <td>English</td>\n",
       "      <td>English</td>\n",
       "      <td>2–3 hours per week</td>\n",
       "      <td>2 Weeks</td>\n",
       "      <td>49</td>\n",
       "      <td>Designed for those who are new to elearning, t...</td>\n",
       "      <td>https://www.edx.org/course/how-to-learn-online</td>\n",
       "      <td>124980.0</td>\n",
       "    </tr>\n",
       "    <tr>\n",
       "      <th>1</th>\n",
       "      <td>Programming for Everybody (Getting Started wit...</td>\n",
       "      <td>This course is a \"no prerequisite\" introductio...</td>\n",
       "      <td>Self-paced on your time</td>\n",
       "      <td>The University of Michigan</td>\n",
       "      <td>Charles Severance</td>\n",
       "      <td>Introductory</td>\n",
       "      <td>Computer Science</td>\n",
       "      <td>English</td>\n",
       "      <td>English</td>\n",
       "      <td>2–4 hours per week</td>\n",
       "      <td>7 Weeks</td>\n",
       "      <td>49</td>\n",
       "      <td>This course aims to teach everyone the basics ...</td>\n",
       "      <td>https://www.edx.org/course/programming-for-eve...</td>\n",
       "      <td>293864.0</td>\n",
       "    </tr>\n",
       "    <tr>\n",
       "      <th>2</th>\n",
       "      <td>CS50's Introduction to Computer Science</td>\n",
       "      <td>An introduction to the intellectual enterprise...</td>\n",
       "      <td>Self-paced on your time</td>\n",
       "      <td>Harvard University</td>\n",
       "      <td>David J. Malan-Doug Lloyd-Brian Yu</td>\n",
       "      <td>Introductory</td>\n",
       "      <td>Computer Science</td>\n",
       "      <td>English</td>\n",
       "      <td>English</td>\n",
       "      <td>6–18 hours per week</td>\n",
       "      <td>12 Weeks</td>\n",
       "      <td>90</td>\n",
       "      <td>This is CS50x , Harvard University's introduct...</td>\n",
       "      <td>https://www.edx.org/course/cs50s-introduction-...</td>\n",
       "      <td>2442271.0</td>\n",
       "    </tr>\n",
       "    <tr>\n",
       "      <th>3</th>\n",
       "      <td>The Analytics Edge</td>\n",
       "      <td>Through inspiring examples and stories, discov...</td>\n",
       "      <td>Instructor-led on a course schedule</td>\n",
       "      <td>Massachusetts Institute of Technology</td>\n",
       "      <td>Dimitris Bertsimas-Allison O'Hair-John Silberh...</td>\n",
       "      <td>Intermediate</td>\n",
       "      <td>Data Analysis &amp; Statistics</td>\n",
       "      <td>English</td>\n",
       "      <td>English</td>\n",
       "      <td>10–15 hours per week</td>\n",
       "      <td>13 Weeks</td>\n",
       "      <td>199</td>\n",
       "      <td>In the last decade, the amount of data availab...</td>\n",
       "      <td>https://www.edx.org/course/the-analytics-edge</td>\n",
       "      <td>129555.0</td>\n",
       "    </tr>\n",
       "    <tr>\n",
       "      <th>4</th>\n",
       "      <td>Marketing Analytics: Marketing Measurement Str...</td>\n",
       "      <td>This course is part of a MicroMasters® Program</td>\n",
       "      <td>Self-paced on your time</td>\n",
       "      <td>University of California, Berkeley</td>\n",
       "      <td>Stephan Sorger</td>\n",
       "      <td>Introductory</td>\n",
       "      <td>Computer Science</td>\n",
       "      <td>English</td>\n",
       "      <td>English</td>\n",
       "      <td>5–7 hours per week</td>\n",
       "      <td>4 Weeks</td>\n",
       "      <td>249</td>\n",
       "      <td>Begin your journey in a new career in marketin...</td>\n",
       "      <td>https://www.edx.org/course/marketing-analytics...</td>\n",
       "      <td>81140.0</td>\n",
       "    </tr>\n",
       "    <tr>\n",
       "      <th>...</th>\n",
       "      <td>...</td>\n",
       "      <td>...</td>\n",
       "      <td>...</td>\n",
       "      <td>...</td>\n",
       "      <td>...</td>\n",
       "      <td>...</td>\n",
       "      <td>...</td>\n",
       "      <td>...</td>\n",
       "      <td>...</td>\n",
       "      <td>...</td>\n",
       "      <td>...</td>\n",
       "      <td>...</td>\n",
       "      <td>...</td>\n",
       "      <td>...</td>\n",
       "      <td>...</td>\n",
       "    </tr>\n",
       "    <tr>\n",
       "      <th>970</th>\n",
       "      <td>Leaders in Citizen Security and Justice Manage...</td>\n",
       "      <td>Learn about the latest in prevention, police a...</td>\n",
       "      <td>Self-paced on your time</td>\n",
       "      <td>Inter-American Development Bank</td>\n",
       "      <td>Olga Espinoza-Eduardo Pazinato-Alejandra Mera-...</td>\n",
       "      <td>Intermediate</td>\n",
       "      <td>Social Sciences</td>\n",
       "      <td>English</td>\n",
       "      <td>English</td>\n",
       "      <td>4–5 hours per week</td>\n",
       "      <td>10 Weeks</td>\n",
       "      <td>25</td>\n",
       "      <td>The high rates of crime and violence are two o...</td>\n",
       "      <td>https://www.edx.org/course/leaders-in-citizen-...</td>\n",
       "      <td>NaN</td>\n",
       "    </tr>\n",
       "    <tr>\n",
       "      <th>971</th>\n",
       "      <td>Pattern Studying and Making | 图案审美与创作</td>\n",
       "      <td>Fantastic experiences in beauty and its repres...</td>\n",
       "      <td>Self-paced on your time</td>\n",
       "      <td>Tsinghua University</td>\n",
       "      <td>Yuehua Nie</td>\n",
       "      <td>Introductory</td>\n",
       "      <td>Art &amp; Culture</td>\n",
       "      <td>中文</td>\n",
       "      <td>English, 中文</td>\n",
       "      <td>3–5 hours per week</td>\n",
       "      <td>12 Weeks</td>\n",
       "      <td>139</td>\n",
       "      <td>Are you an original designer? Or a DIY fancier...</td>\n",
       "      <td>https://www.edx.org/course/pattern-studying-an...</td>\n",
       "      <td>NaN</td>\n",
       "    </tr>\n",
       "    <tr>\n",
       "      <th>972</th>\n",
       "      <td>Computational Neuroscience: Neuronal Dynamics ...</td>\n",
       "      <td>This course explains the mathematical and comp...</td>\n",
       "      <td>Self-paced on your time</td>\n",
       "      <td>École polytechnique fédérale de Lausanne</td>\n",
       "      <td>Wulfram Gerstner</td>\n",
       "      <td>Advanced</td>\n",
       "      <td>Biology &amp; Life Sciences</td>\n",
       "      <td>English</td>\n",
       "      <td>English</td>\n",
       "      <td>4–6 hours per week</td>\n",
       "      <td>6 Weeks</td>\n",
       "      <td>139</td>\n",
       "      <td>What happens in your brain when you make a dec...</td>\n",
       "      <td>https://www.edx.org/course/computational-neuro...</td>\n",
       "      <td>NaN</td>\n",
       "    </tr>\n",
       "    <tr>\n",
       "      <th>973</th>\n",
       "      <td>Cities and the Challenge of Sustainable Develo...</td>\n",
       "      <td>What is a sustainable city? Learn the basics h...</td>\n",
       "      <td>Self-paced on your time</td>\n",
       "      <td>SDG Academy</td>\n",
       "      <td>Jeffrey D. Sachs</td>\n",
       "      <td>Introductory</td>\n",
       "      <td>Environmental Studies</td>\n",
       "      <td>English</td>\n",
       "      <td>English</td>\n",
       "      <td>1–2 hours per week</td>\n",
       "      <td>1 Weeks</td>\n",
       "      <td>25</td>\n",
       "      <td>According to the United Nations, urbanization ...</td>\n",
       "      <td>https://www.edx.org/course/cities-and-the-chal...</td>\n",
       "      <td>NaN</td>\n",
       "    </tr>\n",
       "    <tr>\n",
       "      <th>974</th>\n",
       "      <td>MathTrackX: Special Functions</td>\n",
       "      <td>Understand trigonometric, exponential and loga...</td>\n",
       "      <td>Self-paced on your time</td>\n",
       "      <td>University of Adelaide</td>\n",
       "      <td>Dr David Butler</td>\n",
       "      <td>Introductory</td>\n",
       "      <td>Math</td>\n",
       "      <td>English</td>\n",
       "      <td>English</td>\n",
       "      <td>3–6 hours per week</td>\n",
       "      <td>4 Weeks</td>\n",
       "      <td>79</td>\n",
       "      <td>This course is part two of the MathTrackX XSer...</td>\n",
       "      <td>https://www.edx.org/course/mathtrackx-special-...</td>\n",
       "      <td>NaN</td>\n",
       "    </tr>\n",
       "  </tbody>\n",
       "</table>\n",
       "<p>956 rows × 15 columns</p>\n",
       "</div>"
      ],
      "text/plain": [
       "                                                 title  \\\n",
       "0                                  How to Learn Online   \n",
       "1    Programming for Everybody (Getting Started wit...   \n",
       "2              CS50's Introduction to Computer Science   \n",
       "3                                   The Analytics Edge   \n",
       "4    Marketing Analytics: Marketing Measurement Str...   \n",
       "..                                                 ...   \n",
       "970  Leaders in Citizen Security and Justice Manage...   \n",
       "971              Pattern Studying and Making | 图案审美与创作   \n",
       "972  Computational Neuroscience: Neuronal Dynamics ...   \n",
       "973  Cities and the Challenge of Sustainable Develo...   \n",
       "974                      MathTrackX: Special Functions   \n",
       "\n",
       "                                               summary  \\\n",
       "0    Learn essential strategies for successful onli...   \n",
       "1    This course is a \"no prerequisite\" introductio...   \n",
       "2    An introduction to the intellectual enterprise...   \n",
       "3    Through inspiring examples and stories, discov...   \n",
       "4       This course is part of a MicroMasters® Program   \n",
       "..                                                 ...   \n",
       "970  Learn about the latest in prevention, police a...   \n",
       "971  Fantastic experiences in beauty and its repres...   \n",
       "972  This course explains the mathematical and comp...   \n",
       "973  What is a sustainable city? Learn the basics h...   \n",
       "974  Understand trigonometric, exponential and loga...   \n",
       "\n",
       "                             course_type  \\\n",
       "0                Self-paced on your time   \n",
       "1                Self-paced on your time   \n",
       "2                Self-paced on your time   \n",
       "3    Instructor-led on a course schedule   \n",
       "4                Self-paced on your time   \n",
       "..                                   ...   \n",
       "970              Self-paced on your time   \n",
       "971              Self-paced on your time   \n",
       "972              Self-paced on your time   \n",
       "973              Self-paced on your time   \n",
       "974              Self-paced on your time   \n",
       "\n",
       "                                  institution  \\\n",
       "0                                         edX   \n",
       "1                  The University of Michigan   \n",
       "2                          Harvard University   \n",
       "3       Massachusetts Institute of Technology   \n",
       "4          University of California, Berkeley   \n",
       "..                                        ...   \n",
       "970           Inter-American Development Bank   \n",
       "971                       Tsinghua University   \n",
       "972  École polytechnique fédérale de Lausanne   \n",
       "973                               SDG Academy   \n",
       "974                    University of Adelaide   \n",
       "\n",
       "                                           instructors         level  \\\n",
       "0              Nina Huntemann-Robyn Belair-Ben Piscopo  Introductory   \n",
       "1                                    Charles Severance  Introductory   \n",
       "2                   David J. Malan-Doug Lloyd-Brian Yu  Introductory   \n",
       "3    Dimitris Bertsimas-Allison O'Hair-John Silberh...  Intermediate   \n",
       "4                                       Stephan Sorger  Introductory   \n",
       "..                                                 ...           ...   \n",
       "970  Olga Espinoza-Eduardo Pazinato-Alejandra Mera-...  Intermediate   \n",
       "971                                         Yuehua Nie  Introductory   \n",
       "972                                   Wulfram Gerstner      Advanced   \n",
       "973                                   Jeffrey D. Sachs  Introductory   \n",
       "974                                    Dr David Butler  Introductory   \n",
       "\n",
       "                          subject language    subtitles         course_effort  \\\n",
       "0    Education & Teacher Training  English      English    2–3 hours per week   \n",
       "1                Computer Science  English      English    2–4 hours per week   \n",
       "2                Computer Science  English      English   6–18 hours per week   \n",
       "3      Data Analysis & Statistics  English      English  10–15 hours per week   \n",
       "4                Computer Science  English      English    5–7 hours per week   \n",
       "..                            ...      ...          ...                   ...   \n",
       "970               Social Sciences  English      English    4–5 hours per week   \n",
       "971                 Art & Culture       中文  English, 中文    3–5 hours per week   \n",
       "972       Biology & Life Sciences  English      English    4–6 hours per week   \n",
       "973         Environmental Studies  English      English    1–2 hours per week   \n",
       "974                          Math  English      English    3–6 hours per week   \n",
       "\n",
       "    course_length  price                                 course_description  \\\n",
       "0         2 Weeks     49  Designed for those who are new to elearning, t...   \n",
       "1         7 Weeks     49  This course aims to teach everyone the basics ...   \n",
       "2        12 Weeks     90  This is CS50x , Harvard University's introduct...   \n",
       "3        13 Weeks    199  In the last decade, the amount of data availab...   \n",
       "4         4 Weeks    249  Begin your journey in a new career in marketin...   \n",
       "..            ...    ...                                                ...   \n",
       "970      10 Weeks     25  The high rates of crime and violence are two o...   \n",
       "971      12 Weeks    139  Are you an original designer? Or a DIY fancier...   \n",
       "972       6 Weeks    139  What happens in your brain when you make a dec...   \n",
       "973       1 Weeks     25  According to the United Nations, urbanization ...   \n",
       "974       4 Weeks     79  This course is part two of the MathTrackX XSer...   \n",
       "\n",
       "                                            course_url  n_enrolled  \n",
       "0       https://www.edx.org/course/how-to-learn-online    124980.0  \n",
       "1    https://www.edx.org/course/programming-for-eve...    293864.0  \n",
       "2    https://www.edx.org/course/cs50s-introduction-...   2442271.0  \n",
       "3        https://www.edx.org/course/the-analytics-edge    129555.0  \n",
       "4    https://www.edx.org/course/marketing-analytics...     81140.0  \n",
       "..                                                 ...         ...  \n",
       "970  https://www.edx.org/course/leaders-in-citizen-...         NaN  \n",
       "971  https://www.edx.org/course/pattern-studying-an...         NaN  \n",
       "972  https://www.edx.org/course/computational-neuro...         NaN  \n",
       "973  https://www.edx.org/course/cities-and-the-chal...         NaN  \n",
       "974  https://www.edx.org/course/mathtrackx-special-...         NaN  \n",
       "\n",
       "[956 rows x 15 columns]"
      ]
     },
     "execution_count": 58,
     "metadata": {},
     "output_type": "execute_result"
    }
   ],
   "source": [
    "data_edx_copy1 #vizualizamos"
   ]
  },
  {
   "cell_type": "code",
   "execution_count": 59,
   "metadata": {},
   "outputs": [
    {
     "data": {
      "text/plain": [
       "title                  0\n",
       "summary               53\n",
       "course_type            0\n",
       "institution            0\n",
       "instructors            0\n",
       "level                  0\n",
       "subject                0\n",
       "language               0\n",
       "subtitles              0\n",
       "course_effort          0\n",
       "course_length          0\n",
       "price                  0\n",
       "course_description    40\n",
       "course_url             0\n",
       "n_enrolled            18\n",
       "dtype: int64"
      ]
     },
     "execution_count": 59,
     "metadata": {},
     "output_type": "execute_result"
    }
   ],
   "source": [
    "data_edx_copy1.isna().sum()"
   ]
  },
  {
   "cell_type": "code",
   "execution_count": 60,
   "metadata": {},
   "outputs": [],
   "source": [
    "##observamos que aun hay valores nulos en la columna n_enrolled los remplazare con 0 \n",
    "\n",
    "data_edx_copy1['n_enrolled'].fillna(value=0, inplace=True)"
   ]
  },
  {
   "cell_type": "code",
   "execution_count": 61,
   "metadata": {},
   "outputs": [
    {
     "data": {
      "text/plain": [
       "title                  0\n",
       "summary               53\n",
       "course_type            0\n",
       "institution            0\n",
       "instructors            0\n",
       "level                  0\n",
       "subject                0\n",
       "language               0\n",
       "subtitles              0\n",
       "course_effort          0\n",
       "course_length          0\n",
       "price                  0\n",
       "course_description    40\n",
       "course_url             0\n",
       "n_enrolled             0\n",
       "dtype: int64"
      ]
     },
     "execution_count": 61,
     "metadata": {},
     "output_type": "execute_result"
    }
   ],
   "source": [
    "data_edx_copy1.isna().sum() ##vemos que columnmas quedan con valores nulos"
   ]
  },
  {
   "cell_type": "code",
   "execution_count": 62,
   "metadata": {},
   "outputs": [],
   "source": [
    "data_edx_copy1['summary'].fillna(value='Sin dato', inplace=True) #normalizamos la columna summary"
   ]
  },
  {
   "cell_type": "code",
   "execution_count": 63,
   "metadata": {},
   "outputs": [],
   "source": [
    "data_edx_copy1['course_description'].fillna(value='Sin dato', inplace=True) #normalizamos columna course_description"
   ]
  },
  {
   "cell_type": "code",
   "execution_count": 64,
   "metadata": {},
   "outputs": [
    {
     "data": {
      "text/plain": [
       "title                 0\n",
       "summary               0\n",
       "course_type           0\n",
       "institution           0\n",
       "instructors           0\n",
       "level                 0\n",
       "subject               0\n",
       "language              0\n",
       "subtitles             0\n",
       "course_effort         0\n",
       "course_length         0\n",
       "price                 0\n",
       "course_description    0\n",
       "course_url            0\n",
       "n_enrolled            0\n",
       "dtype: int64"
      ]
     },
     "execution_count": 64,
     "metadata": {},
     "output_type": "execute_result"
    }
   ],
   "source": [
    "data_edx_copy1.isna().sum()"
   ]
  },
  {
   "cell_type": "code",
   "execution_count": 65,
   "metadata": {},
   "outputs": [
    {
     "data": {
      "text/plain": [
       "English          762\n",
       "Español          172\n",
       "Français           7\n",
       "Italiano           4\n",
       "中文                 4\n",
       "Português          4\n",
       "日本語                1\n",
       "اللغة العربية      1\n",
       "Deutsch            1\n",
       "Name: language, dtype: int64"
      ]
     },
     "execution_count": 65,
     "metadata": {},
     "output_type": "execute_result"
    }
   ],
   "source": [
    "data_edx_copy1.language.value_counts() ## observamos que en esta columna hay un dato que esta invertido 1 es el language y اللغة العربية es el valor"
   ]
  },
  {
   "cell_type": "code",
   "execution_count": 66,
   "metadata": {},
   "outputs": [],
   "source": [
    "edx_copy = data_edx_copy1.copy()"
   ]
  },
  {
   "cell_type": "code",
   "execution_count": 67,
   "metadata": {},
   "outputs": [],
   "source": [
    "edx_copy['language'] = edx_copy['language'].replace(\"1\",\"اللغة العربية\")"
   ]
  },
  {
   "cell_type": "code",
   "execution_count": 68,
   "metadata": {},
   "outputs": [
    {
     "data": {
      "text/html": [
       "<div>\n",
       "<style scoped>\n",
       "    .dataframe tbody tr th:only-of-type {\n",
       "        vertical-align: middle;\n",
       "    }\n",
       "\n",
       "    .dataframe tbody tr th {\n",
       "        vertical-align: top;\n",
       "    }\n",
       "\n",
       "    .dataframe thead th {\n",
       "        text-align: right;\n",
       "    }\n",
       "</style>\n",
       "<table border=\"1\" class=\"dataframe\">\n",
       "  <thead>\n",
       "    <tr style=\"text-align: right;\">\n",
       "      <th></th>\n",
       "      <th>title</th>\n",
       "      <th>summary</th>\n",
       "      <th>course_type</th>\n",
       "      <th>institution</th>\n",
       "      <th>instructors</th>\n",
       "      <th>level</th>\n",
       "      <th>subject</th>\n",
       "      <th>language</th>\n",
       "      <th>subtitles</th>\n",
       "      <th>course_effort</th>\n",
       "      <th>course_length</th>\n",
       "      <th>price</th>\n",
       "      <th>course_description</th>\n",
       "      <th>course_url</th>\n",
       "      <th>n_enrolled</th>\n",
       "    </tr>\n",
       "  </thead>\n",
       "  <tbody>\n",
       "    <tr>\n",
       "      <th>672</th>\n",
       "      <td>مساق اللّغة العربيّة</td>\n",
       "      <td>إن مساق اللغة العربية ARBU 140، تم تأليفه لإعد...</td>\n",
       "      <td>Self-paced on your time</td>\n",
       "      <td>United Arab Emirates University</td>\n",
       "      <td>باسلة موسى جلو</td>\n",
       "      <td>Introductory</td>\n",
       "      <td>Language</td>\n",
       "      <td>اللغة العربية</td>\n",
       "      <td>اللغة العربية</td>\n",
       "      <td>3–4 hours per week</td>\n",
       "      <td>8 Weeks</td>\n",
       "      <td>49</td>\n",
       "      <td>Sin dato</td>\n",
       "      <td>https://www.edx.org/course/msq-llg-lrby</td>\n",
       "      <td>138884.0</td>\n",
       "    </tr>\n",
       "  </tbody>\n",
       "</table>\n",
       "</div>"
      ],
      "text/plain": [
       "                    title                                            summary  \\\n",
       "672  مساق اللّغة العربيّة  إن مساق اللغة العربية ARBU 140، تم تأليفه لإعد...   \n",
       "\n",
       "                 course_type                      institution     instructors  \\\n",
       "672  Self-paced on your time  United Arab Emirates University  باسلة موسى جلو   \n",
       "\n",
       "            level   subject       language      subtitles       course_effort  \\\n",
       "672  Introductory  Language  اللغة العربية  اللغة العربية  3–4 hours per week   \n",
       "\n",
       "    course_length  price course_description  \\\n",
       "672       8 Weeks     49           Sin dato   \n",
       "\n",
       "                                  course_url  n_enrolled  \n",
       "672  https://www.edx.org/course/msq-llg-lrby    138884.0  "
      ]
     },
     "execution_count": 68,
     "metadata": {},
     "output_type": "execute_result"
    }
   ],
   "source": [
    "edx_copy.loc[edx_copy['language'] == \"اللغة العربية\"] ##al parecer todo esta bien, desconozco por qué al usar el value_count este dato se invierte"
   ]
  },
  {
   "cell_type": "code",
   "execution_count": 69,
   "metadata": {},
   "outputs": [],
   "source": [
    "##hacemos un filtro sobre las columnas de interes para ver como influyen en el producto vendido dropeo las columas que no me interesan\n",
    "edx_copy.drop(['summary','course_type','institution','instructors','subject','subtitles','course_effort','course_length','course_description','course_url'],axis=1,inplace=True)  "
   ]
  },
  {
   "cell_type": "code",
   "execution_count": 70,
   "metadata": {},
   "outputs": [
    {
     "data": {
      "text/plain": [
       "Introductory    617\n",
       "Intermediate    264\n",
       "Advanced         75\n",
       "Name: level, dtype: int64"
      ]
     },
     "execution_count": 70,
     "metadata": {},
     "output_type": "execute_result"
    }
   ],
   "source": [
    "edx_copy.level.value_counts()"
   ]
  },
  {
   "cell_type": "code",
   "execution_count": 71,
   "metadata": {},
   "outputs": [
    {
     "data": {
      "image/png": "[encoded data removed]",
      "text/plain": [
       "<Figure size 640x480 with 1 Axes>"
      ]
     },
     "metadata": {},
     "output_type": "display_data"
    }
   ],
   "source": [
    "plt.hist(edx_copy.price, bins= 20)  ##ploteamos con respecto al precio para ver cuál es el precio que la gente esta dispuesta a pagar\n",
    "plt.xlabel('Precios')\n",
    "plt.ylabel('Más vendido')\n",
    "plt.grid()\n",
    "plt.show()"
   ]
  },
  {
   "cell_type": "code",
   "execution_count": 72,
   "metadata": {},
   "outputs": [
    {
     "data": {
      "text/plain": [
       "-0.009482190720812004"
      ]
     },
     "execution_count": 72,
     "metadata": {},
     "output_type": "execute_result"
    }
   ],
   "source": [
    "edx_copy['price'].corr(edx_copy['n_enrolled']) ##calculamos la correlación entre el precio y número de estudiantes inscritos "
   ]
  },
  {
   "attachments": {},
   "cell_type": "markdown",
   "metadata": {},
   "source": [
    "El coeficiente de correlación es -0.009482190720812004 .Esta correlación es negativa, nos dice que los puntos y las asistencias están correlacionados negativamente. Esto quiere decir que a medida que aumentan los valores en la columna de precios, los valores en la columna de numero de inscristos tienden a disminuir."
   ]
  },
  {
   "cell_type": "code",
   "execution_count": 73,
   "metadata": {},
   "outputs": [
    {
     "data": {
      "image/png": "[encoded data removed]",
      "text/plain": [
       "<Figure size 600x400 with 1 Axes>"
      ]
     },
     "metadata": {},
     "output_type": "display_data"
    }
   ],
   "source": [
    "##veamos como se relacionan el precio y la cantidad de personas inscritas graficamente\n",
    "# Gráfico\n",
    "\n",
    "fig, ax = plt.subplots(1, 1, figsize=(6,4))\n",
    "ax.scatter(x=edx_copy.price, y=edx_copy.n_enrolled, alpha= 0.8)\n",
    "plt.title('Relación entre el precio y número de estudiantes inscritos')\n",
    "ax.set_xlabel('Precio')\n",
    "ax.set_ylabel('Número de estudiantes inscritos');"
   ]
  },
  {
   "cell_type": "code",
   "execution_count": 74,
   "metadata": {},
   "outputs": [],
   "source": [
    "##eliminamos las columnas que no me interan para generar un csv nuevo y hacer los reportes\n",
    "data_edx_copy1.drop(['summary','course_type','institution','instructors','subject','course_effort','course_length','course_description','course_url'],axis=1,inplace=True)"
   ]
  },
  {
   "cell_type": "code",
   "execution_count": 75,
   "metadata": {},
   "outputs": [
    {
     "data": {
      "text/html": [
       "<div>\n",
       "<style scoped>\n",
       "    .dataframe tbody tr th:only-of-type {\n",
       "        vertical-align: middle;\n",
       "    }\n",
       "\n",
       "    .dataframe tbody tr th {\n",
       "        vertical-align: top;\n",
       "    }\n",
       "\n",
       "    .dataframe thead th {\n",
       "        text-align: right;\n",
       "    }\n",
       "</style>\n",
       "<table border=\"1\" class=\"dataframe\">\n",
       "  <thead>\n",
       "    <tr style=\"text-align: right;\">\n",
       "      <th></th>\n",
       "      <th>title</th>\n",
       "      <th>level</th>\n",
       "      <th>language</th>\n",
       "      <th>subtitles</th>\n",
       "      <th>price</th>\n",
       "      <th>n_enrolled</th>\n",
       "    </tr>\n",
       "  </thead>\n",
       "  <tbody>\n",
       "    <tr>\n",
       "      <th>0</th>\n",
       "      <td>How to Learn Online</td>\n",
       "      <td>Introductory</td>\n",
       "      <td>English</td>\n",
       "      <td>English</td>\n",
       "      <td>49</td>\n",
       "      <td>124980.0</td>\n",
       "    </tr>\n",
       "    <tr>\n",
       "      <th>1</th>\n",
       "      <td>Programming for Everybody (Getting Started wit...</td>\n",
       "      <td>Introductory</td>\n",
       "      <td>English</td>\n",
       "      <td>English</td>\n",
       "      <td>49</td>\n",
       "      <td>293864.0</td>\n",
       "    </tr>\n",
       "    <tr>\n",
       "      <th>2</th>\n",
       "      <td>CS50's Introduction to Computer Science</td>\n",
       "      <td>Introductory</td>\n",
       "      <td>English</td>\n",
       "      <td>English</td>\n",
       "      <td>90</td>\n",
       "      <td>2442271.0</td>\n",
       "    </tr>\n",
       "    <tr>\n",
       "      <th>3</th>\n",
       "      <td>The Analytics Edge</td>\n",
       "      <td>Intermediate</td>\n",
       "      <td>English</td>\n",
       "      <td>English</td>\n",
       "      <td>199</td>\n",
       "      <td>129555.0</td>\n",
       "    </tr>\n",
       "    <tr>\n",
       "      <th>4</th>\n",
       "      <td>Marketing Analytics: Marketing Measurement Str...</td>\n",
       "      <td>Introductory</td>\n",
       "      <td>English</td>\n",
       "      <td>English</td>\n",
       "      <td>249</td>\n",
       "      <td>81140.0</td>\n",
       "    </tr>\n",
       "  </tbody>\n",
       "</table>\n",
       "</div>"
      ],
      "text/plain": [
       "                                               title         level language  \\\n",
       "0                                How to Learn Online  Introductory  English   \n",
       "1  Programming for Everybody (Getting Started wit...  Introductory  English   \n",
       "2            CS50's Introduction to Computer Science  Introductory  English   \n",
       "3                                 The Analytics Edge  Intermediate  English   \n",
       "4  Marketing Analytics: Marketing Measurement Str...  Introductory  English   \n",
       "\n",
       "  subtitles  price  n_enrolled  \n",
       "0   English     49    124980.0  \n",
       "1   English     49    293864.0  \n",
       "2   English     90   2442271.0  \n",
       "3   English    199    129555.0  \n",
       "4   English    249     81140.0  "
      ]
     },
     "execution_count": 75,
     "metadata": {},
     "output_type": "execute_result"
    }
   ],
   "source": [
    "data_edx_copy1.head() ##vizualizamos que esten las columnas que me interesan"
   ]
  },
  {
   "cell_type": "code",
   "execution_count": 76,
   "metadata": {},
   "outputs": [],
   "source": [
    "#data_edx_copy1.to_csv('edx.csv',index=False) ##generamos el csv"
   ]
  },
  {
   "cell_type": "code",
   "execution_count": 77,
   "metadata": {},
   "outputs": [
    {
     "data": {
      "text/plain": [
       "title         CS50's Introduction to Computer Science\n",
       "level                                    Introductory\n",
       "language                                      English\n",
       "price                                              90\n",
       "n_enrolled                                  2442271.0\n",
       "Name: 2, dtype: object"
      ]
     },
     "execution_count": 77,
     "metadata": {},
     "output_type": "execute_result"
    }
   ],
   "source": [
    "edx_copy.loc[edx_copy.n_enrolled.idxmax()]  ##Observamos los datos del curso con mas estudiantes inscritos"
   ]
  },
  {
   "cell_type": "code",
   "execution_count": 78,
   "metadata": {},
   "outputs": [
    {
     "data": {
      "image/png": "[encoded data removed]",
      "text/plain": [
       "<Figure size 640x480 with 1 Axes>"
      ]
     },
     "metadata": {},
     "output_type": "display_data"
    }
   ],
   "source": [
    "plt.hist(edx_copy.level, bins= 20)  ##ploteamos para ver en nivel del curso que suele ser el mas comprado en esta plataforma\n",
    "plt.xlabel('Niveles')\n",
    "plt.ylabel('n_inscritos')\n",
    "plt.grid()\n",
    "plt.show()"
   ]
  },
  {
   "attachments": {},
   "cell_type": "markdown",
   "metadata": {},
   "source": [
    "Viendo este gráfico se podria interpretar que a medida que los cursos aumentan de nivel suelen haber menos estudiantes inscriptos, la razón de esto se debe a que muchos estudiantes no habrán terminado el introductorio, o también que hayan terminado el introductorio y se sientan preparados para continuar aprendiendo de forma independiente."
   ]
  },
  {
   "cell_type": "code",
   "execution_count": 79,
   "metadata": {},
   "outputs": [
    {
     "data": {
      "text/plain": [
       "299"
      ]
     },
     "execution_count": 79,
     "metadata": {},
     "output_type": "execute_result"
    }
   ],
   "source": [
    "edx_copy.price.max()"
   ]
  },
  {
   "cell_type": "code",
   "execution_count": 106,
   "metadata": {},
   "outputs": [
    {
     "data": {
      "image/png": "[encoded data removed]",
      "text/plain": [
       "<Figure size 640x480 with 1 Axes>"
      ]
     },
     "metadata": {},
     "output_type": "display_data"
    }
   ],
   "source": [
    "from wordcloud import WordCloud  ##nube de palabras edx\n",
    "data2 = edx_copy['title'].value_counts().to_dict()\n",
    "wc = WordCloud().generate_from_frequencies(data2)\n",
    "\n",
    "plt.imshow(wc)\n",
    "plt.axis('off')\n",
    "plt.show()"
   ]
  },
  {
   "attachments": {},
   "cell_type": "markdown",
   "metadata": {},
   "source": [
    "                                                        UDEMY COURSES"
   ]
  },
  {
   "cell_type": "code",
   "execution_count": 80,
   "metadata": {},
   "outputs": [],
   "source": [
    "data_Udemy = pd.read_csv('udemy_courses.csv')"
   ]
  },
  {
   "cell_type": "code",
   "execution_count": 81,
   "metadata": {},
   "outputs": [
    {
     "data": {
      "text/html": [
       "<div>\n",
       "<style scoped>\n",
       "    .dataframe tbody tr th:only-of-type {\n",
       "        vertical-align: middle;\n",
       "    }\n",
       "\n",
       "    .dataframe tbody tr th {\n",
       "        vertical-align: top;\n",
       "    }\n",
       "\n",
       "    .dataframe thead th {\n",
       "        text-align: right;\n",
       "    }\n",
       "</style>\n",
       "<table border=\"1\" class=\"dataframe\">\n",
       "  <thead>\n",
       "    <tr style=\"text-align: right;\">\n",
       "      <th></th>\n",
       "      <th>course_id</th>\n",
       "      <th>course_title</th>\n",
       "      <th>url</th>\n",
       "      <th>is_paid</th>\n",
       "      <th>price</th>\n",
       "      <th>num_subscribers</th>\n",
       "      <th>num_reviews</th>\n",
       "      <th>num_lectures</th>\n",
       "      <th>level</th>\n",
       "      <th>content_duration</th>\n",
       "      <th>published_timestamp</th>\n",
       "      <th>subject</th>\n",
       "    </tr>\n",
       "  </thead>\n",
       "  <tbody>\n",
       "    <tr>\n",
       "      <th>0</th>\n",
       "      <td>1070968</td>\n",
       "      <td>Ultimate Investment Banking Course</td>\n",
       "      <td>https://www.udemy.com/ultimate-investment-bank...</td>\n",
       "      <td>True</td>\n",
       "      <td>200</td>\n",
       "      <td>2147</td>\n",
       "      <td>23</td>\n",
       "      <td>51</td>\n",
       "      <td>All Levels</td>\n",
       "      <td>1.5</td>\n",
       "      <td>2017-01-18T20:58:58Z</td>\n",
       "      <td>Business Finance</td>\n",
       "    </tr>\n",
       "    <tr>\n",
       "      <th>1</th>\n",
       "      <td>1113822</td>\n",
       "      <td>Complete GST Course &amp; Certification - Grow You...</td>\n",
       "      <td>https://www.udemy.com/goods-and-services-tax/</td>\n",
       "      <td>True</td>\n",
       "      <td>75</td>\n",
       "      <td>2792</td>\n",
       "      <td>923</td>\n",
       "      <td>274</td>\n",
       "      <td>All Levels</td>\n",
       "      <td>39.0</td>\n",
       "      <td>2017-03-09T16:34:20Z</td>\n",
       "      <td>Business Finance</td>\n",
       "    </tr>\n",
       "    <tr>\n",
       "      <th>2</th>\n",
       "      <td>1006314</td>\n",
       "      <td>Financial Modeling for Business Analysts and C...</td>\n",
       "      <td>https://www.udemy.com/financial-modeling-for-b...</td>\n",
       "      <td>True</td>\n",
       "      <td>45</td>\n",
       "      <td>2174</td>\n",
       "      <td>74</td>\n",
       "      <td>51</td>\n",
       "      <td>Intermediate Level</td>\n",
       "      <td>2.5</td>\n",
       "      <td>2016-12-19T19:26:30Z</td>\n",
       "      <td>Business Finance</td>\n",
       "    </tr>\n",
       "    <tr>\n",
       "      <th>3</th>\n",
       "      <td>1210588</td>\n",
       "      <td>Beginner to Pro - Financial Analysis in Excel ...</td>\n",
       "      <td>https://www.udemy.com/complete-excel-finance-c...</td>\n",
       "      <td>True</td>\n",
       "      <td>95</td>\n",
       "      <td>2451</td>\n",
       "      <td>11</td>\n",
       "      <td>36</td>\n",
       "      <td>All Levels</td>\n",
       "      <td>3.0</td>\n",
       "      <td>2017-05-30T20:07:24Z</td>\n",
       "      <td>Business Finance</td>\n",
       "    </tr>\n",
       "    <tr>\n",
       "      <th>4</th>\n",
       "      <td>1011058</td>\n",
       "      <td>How To Maximize Your Profits Trading Options</td>\n",
       "      <td>https://www.udemy.com/how-to-maximize-your-pro...</td>\n",
       "      <td>True</td>\n",
       "      <td>200</td>\n",
       "      <td>1276</td>\n",
       "      <td>45</td>\n",
       "      <td>26</td>\n",
       "      <td>Intermediate Level</td>\n",
       "      <td>2.0</td>\n",
       "      <td>2016-12-13T14:57:18Z</td>\n",
       "      <td>Business Finance</td>\n",
       "    </tr>\n",
       "  </tbody>\n",
       "</table>\n",
       "</div>"
      ],
      "text/plain": [
       "   course_id                                       course_title  \\\n",
       "0    1070968                 Ultimate Investment Banking Course   \n",
       "1    1113822  Complete GST Course & Certification - Grow You...   \n",
       "2    1006314  Financial Modeling for Business Analysts and C...   \n",
       "3    1210588  Beginner to Pro - Financial Analysis in Excel ...   \n",
       "4    1011058       How To Maximize Your Profits Trading Options   \n",
       "\n",
       "                                                 url  is_paid  price  \\\n",
       "0  https://www.udemy.com/ultimate-investment-bank...     True    200   \n",
       "1      https://www.udemy.com/goods-and-services-tax/     True     75   \n",
       "2  https://www.udemy.com/financial-modeling-for-b...     True     45   \n",
       "3  https://www.udemy.com/complete-excel-finance-c...     True     95   \n",
       "4  https://www.udemy.com/how-to-maximize-your-pro...     True    200   \n",
       "\n",
       "   num_subscribers  num_reviews  num_lectures               level  \\\n",
       "0             2147           23            51          All Levels   \n",
       "1             2792          923           274          All Levels   \n",
       "2             2174           74            51  Intermediate Level   \n",
       "3             2451           11            36          All Levels   \n",
       "4             1276           45            26  Intermediate Level   \n",
       "\n",
       "   content_duration   published_timestamp           subject  \n",
       "0               1.5  2017-01-18T20:58:58Z  Business Finance  \n",
       "1              39.0  2017-03-09T16:34:20Z  Business Finance  \n",
       "2               2.5  2016-12-19T19:26:30Z  Business Finance  \n",
       "3               3.0  2017-05-30T20:07:24Z  Business Finance  \n",
       "4               2.0  2016-12-13T14:57:18Z  Business Finance  "
      ]
     },
     "execution_count": 81,
     "metadata": {},
     "output_type": "execute_result"
    }
   ],
   "source": [
    "data_Udemy.head()"
   ]
  },
  {
   "cell_type": "code",
   "execution_count": 82,
   "metadata": {},
   "outputs": [
    {
     "data": {
      "text/plain": [
       "(3678, 12)"
      ]
     },
     "execution_count": 82,
     "metadata": {},
     "output_type": "execute_result"
    }
   ],
   "source": [
    "data_Udemy.shape"
   ]
  },
  {
   "cell_type": "code",
   "execution_count": 83,
   "metadata": {},
   "outputs": [
    {
     "data": {
      "text/plain": [
       "course_id              0\n",
       "course_title           0\n",
       "url                    0\n",
       "is_paid                0\n",
       "price                  0\n",
       "num_subscribers        0\n",
       "num_reviews            0\n",
       "num_lectures           0\n",
       "level                  0\n",
       "content_duration       0\n",
       "published_timestamp    0\n",
       "subject                0\n",
       "dtype: int64"
      ]
     },
     "execution_count": 83,
     "metadata": {},
     "output_type": "execute_result"
    }
   ],
   "source": [
    "data_Udemy.isna().sum()"
   ]
  },
  {
   "cell_type": "code",
   "execution_count": 84,
   "metadata": {},
   "outputs": [
    {
     "data": {
      "text/plain": [
       "6"
      ]
     },
     "execution_count": 84,
     "metadata": {},
     "output_type": "execute_result"
    }
   ],
   "source": [
    "data_Udemy.duplicated().sum()"
   ]
  },
  {
   "cell_type": "code",
   "execution_count": 85,
   "metadata": {},
   "outputs": [
    {
     "data": {
      "text/html": [
       "<div>\n",
       "<style scoped>\n",
       "    .dataframe tbody tr th:only-of-type {\n",
       "        vertical-align: middle;\n",
       "    }\n",
       "\n",
       "    .dataframe tbody tr th {\n",
       "        vertical-align: top;\n",
       "    }\n",
       "\n",
       "    .dataframe thead th {\n",
       "        text-align: right;\n",
       "    }\n",
       "</style>\n",
       "<table border=\"1\" class=\"dataframe\">\n",
       "  <thead>\n",
       "    <tr style=\"text-align: right;\">\n",
       "      <th></th>\n",
       "      <th>course_id</th>\n",
       "      <th>course_title</th>\n",
       "      <th>url</th>\n",
       "      <th>is_paid</th>\n",
       "      <th>price</th>\n",
       "      <th>num_subscribers</th>\n",
       "      <th>num_reviews</th>\n",
       "      <th>num_lectures</th>\n",
       "      <th>level</th>\n",
       "      <th>content_duration</th>\n",
       "      <th>published_timestamp</th>\n",
       "      <th>subject</th>\n",
       "    </tr>\n",
       "  </thead>\n",
       "  <tbody>\n",
       "    <tr>\n",
       "      <th>787</th>\n",
       "      <td>837322</td>\n",
       "      <td>Essentials of money value: Get a financial Life !</td>\n",
       "      <td>https://www.udemy.com/essentials-of-money-value/</td>\n",
       "      <td>True</td>\n",
       "      <td>20</td>\n",
       "      <td>0</td>\n",
       "      <td>0</td>\n",
       "      <td>20</td>\n",
       "      <td>All Levels</td>\n",
       "      <td>0.616667</td>\n",
       "      <td>2016-05-16T18:28:30Z</td>\n",
       "      <td>Business Finance</td>\n",
       "    </tr>\n",
       "    <tr>\n",
       "      <th>788</th>\n",
       "      <td>1157298</td>\n",
       "      <td>Introduction to Forex Trading Business For Beg...</td>\n",
       "      <td>https://www.udemy.com/introduction-to-forex-tr...</td>\n",
       "      <td>True</td>\n",
       "      <td>20</td>\n",
       "      <td>0</td>\n",
       "      <td>0</td>\n",
       "      <td>27</td>\n",
       "      <td>Beginner Level</td>\n",
       "      <td>1.500000</td>\n",
       "      <td>2017-04-23T16:19:01Z</td>\n",
       "      <td>Business Finance</td>\n",
       "    </tr>\n",
       "    <tr>\n",
       "      <th>894</th>\n",
       "      <td>1035638</td>\n",
       "      <td>Understanding Financial Statements</td>\n",
       "      <td>https://www.udemy.com/understanding-financial-...</td>\n",
       "      <td>True</td>\n",
       "      <td>25</td>\n",
       "      <td>0</td>\n",
       "      <td>0</td>\n",
       "      <td>10</td>\n",
       "      <td>All Levels</td>\n",
       "      <td>1.000000</td>\n",
       "      <td>2016-12-15T14:56:17Z</td>\n",
       "      <td>Business Finance</td>\n",
       "    </tr>\n",
       "    <tr>\n",
       "      <th>1100</th>\n",
       "      <td>1084454</td>\n",
       "      <td>CFA Level 2- Quantitative Methods</td>\n",
       "      <td>https://www.udemy.com/cfa-level-2-quantitative...</td>\n",
       "      <td>True</td>\n",
       "      <td>40</td>\n",
       "      <td>0</td>\n",
       "      <td>0</td>\n",
       "      <td>35</td>\n",
       "      <td>All Levels</td>\n",
       "      <td>5.500000</td>\n",
       "      <td>2017-07-02T14:29:35Z</td>\n",
       "      <td>Business Finance</td>\n",
       "    </tr>\n",
       "    <tr>\n",
       "      <th>1473</th>\n",
       "      <td>185526</td>\n",
       "      <td>MicroStation - Células</td>\n",
       "      <td>https://www.udemy.com/microstation-celulas/</td>\n",
       "      <td>True</td>\n",
       "      <td>20</td>\n",
       "      <td>0</td>\n",
       "      <td>0</td>\n",
       "      <td>9</td>\n",
       "      <td>Beginner Level</td>\n",
       "      <td>0.616667</td>\n",
       "      <td>2014-04-15T21:48:55Z</td>\n",
       "      <td>Graphic Design</td>\n",
       "    </tr>\n",
       "    <tr>\n",
       "      <th>2561</th>\n",
       "      <td>28295</td>\n",
       "      <td>Learn Web Designing &amp; HTML5/CSS3 Essentials in...</td>\n",
       "      <td>https://www.udemy.com/build-beautiful-html5-we...</td>\n",
       "      <td>True</td>\n",
       "      <td>75</td>\n",
       "      <td>43285</td>\n",
       "      <td>525</td>\n",
       "      <td>24</td>\n",
       "      <td>All Levels</td>\n",
       "      <td>4.000000</td>\n",
       "      <td>2013-01-03T00:55:31Z</td>\n",
       "      <td>Web Development</td>\n",
       "    </tr>\n",
       "  </tbody>\n",
       "</table>\n",
       "</div>"
      ],
      "text/plain": [
       "      course_id                                       course_title  \\\n",
       "787      837322  Essentials of money value: Get a financial Life !   \n",
       "788     1157298  Introduction to Forex Trading Business For Beg...   \n",
       "894     1035638                 Understanding Financial Statements   \n",
       "1100    1084454                  CFA Level 2- Quantitative Methods   \n",
       "1473     185526                             MicroStation - Células   \n",
       "2561      28295  Learn Web Designing & HTML5/CSS3 Essentials in...   \n",
       "\n",
       "                                                    url  is_paid  price  \\\n",
       "787    https://www.udemy.com/essentials-of-money-value/     True     20   \n",
       "788   https://www.udemy.com/introduction-to-forex-tr...     True     20   \n",
       "894   https://www.udemy.com/understanding-financial-...     True     25   \n",
       "1100  https://www.udemy.com/cfa-level-2-quantitative...     True     40   \n",
       "1473        https://www.udemy.com/microstation-celulas/     True     20   \n",
       "2561  https://www.udemy.com/build-beautiful-html5-we...     True     75   \n",
       "\n",
       "      num_subscribers  num_reviews  num_lectures           level  \\\n",
       "787                 0            0            20      All Levels   \n",
       "788                 0            0            27  Beginner Level   \n",
       "894                 0            0            10      All Levels   \n",
       "1100                0            0            35      All Levels   \n",
       "1473                0            0             9  Beginner Level   \n",
       "2561            43285          525            24      All Levels   \n",
       "\n",
       "      content_duration   published_timestamp           subject  \n",
       "787           0.616667  2016-05-16T18:28:30Z  Business Finance  \n",
       "788           1.500000  2017-04-23T16:19:01Z  Business Finance  \n",
       "894           1.000000  2016-12-15T14:56:17Z  Business Finance  \n",
       "1100          5.500000  2017-07-02T14:29:35Z  Business Finance  \n",
       "1473          0.616667  2014-04-15T21:48:55Z    Graphic Design  \n",
       "2561          4.000000  2013-01-03T00:55:31Z   Web Development  "
      ]
     },
     "execution_count": 85,
     "metadata": {},
     "output_type": "execute_result"
    }
   ],
   "source": [
    "data_Udemy[data_Udemy.duplicated()] ##Chequeamos las instancias duplicadas"
   ]
  },
  {
   "attachments": {},
   "cell_type": "markdown",
   "metadata": {},
   "source": [
    "Aunque aparezcan instancias duplicadas no son en esencia los mismos cursos ya que las caracteristicas de cada curso es diferente \n",
    "se puede apreciar en el titulo de cada curso, la url, y/o el número de suscriptores"
   ]
  },
  {
   "cell_type": "code",
   "execution_count": 86,
   "metadata": {},
   "outputs": [
    {
     "name": "stdout",
     "output_type": "stream",
     "text": [
      "Empty DataFrame\n",
      "Columns: [course_id, course_title, url, is_paid, price, num_subscribers, num_reviews, num_lectures, level, content_duration, published_timestamp, subject]\n",
      "Index: []\n"
     ]
    }
   ],
   "source": [
    "print(data_Udemy[data_Udemy['price'] <0]) ##verificamos que no hayan precios menores que cero"
   ]
  },
  {
   "cell_type": "code",
   "execution_count": 87,
   "metadata": {},
   "outputs": [
    {
     "name": "stdout",
     "output_type": "stream",
     "text": [
      "Empty DataFrame\n",
      "Columns: [course_id, course_title, url, is_paid, price, num_subscribers, num_reviews, num_lectures, level, content_duration, published_timestamp, subject]\n",
      "Index: []\n"
     ]
    }
   ],
   "source": [
    "print(data_Udemy[(data_Udemy['price'] <= 0)  & (data_Udemy['is_paid'] == True)]) #Confirmamos que no hayan inconsistencias en estas columnas"
   ]
  },
  {
   "cell_type": "code",
   "execution_count": 88,
   "metadata": {},
   "outputs": [
    {
     "name": "stdout",
     "output_type": "stream",
     "text": [
      "0\n"
     ]
    }
   ],
   "source": [
    "print(data_Udemy.price.min()) #chequeamos el valor minimo en la columna price"
   ]
  },
  {
   "cell_type": "code",
   "execution_count": 89,
   "metadata": {},
   "outputs": [
    {
     "name": "stdout",
     "output_type": "stream",
     "text": [
      "200\n"
     ]
    }
   ],
   "source": [
    "print(data_Udemy.price.max()) #chequeamos el valor maximo en la columna price"
   ]
  },
  {
   "cell_type": "code",
   "execution_count": 90,
   "metadata": {},
   "outputs": [
    {
     "data": {
      "text/html": [
       "<div>\n",
       "<style scoped>\n",
       "    .dataframe tbody tr th:only-of-type {\n",
       "        vertical-align: middle;\n",
       "    }\n",
       "\n",
       "    .dataframe tbody tr th {\n",
       "        vertical-align: top;\n",
       "    }\n",
       "\n",
       "    .dataframe thead th {\n",
       "        text-align: right;\n",
       "    }\n",
       "</style>\n",
       "<table border=\"1\" class=\"dataframe\">\n",
       "  <thead>\n",
       "    <tr style=\"text-align: right;\">\n",
       "      <th></th>\n",
       "      <th>course_id</th>\n",
       "      <th>course_title</th>\n",
       "      <th>url</th>\n",
       "      <th>is_paid</th>\n",
       "      <th>price</th>\n",
       "      <th>num_subscribers</th>\n",
       "      <th>num_reviews</th>\n",
       "      <th>num_lectures</th>\n",
       "      <th>level</th>\n",
       "      <th>content_duration</th>\n",
       "      <th>published_timestamp</th>\n",
       "      <th>subject</th>\n",
       "    </tr>\n",
       "  </thead>\n",
       "  <tbody>\n",
       "    <tr>\n",
       "      <th>0</th>\n",
       "      <td>1070968</td>\n",
       "      <td>Ultimate Investment Banking Course</td>\n",
       "      <td>https://www.udemy.com/ultimate-investment-bank...</td>\n",
       "      <td>True</td>\n",
       "      <td>200</td>\n",
       "      <td>2147</td>\n",
       "      <td>23</td>\n",
       "      <td>51</td>\n",
       "      <td>All Levels</td>\n",
       "      <td>1.5</td>\n",
       "      <td>2017-01-18T20:58:58Z</td>\n",
       "      <td>Business Finance</td>\n",
       "    </tr>\n",
       "    <tr>\n",
       "      <th>1</th>\n",
       "      <td>1113822</td>\n",
       "      <td>Complete GST Course &amp; Certification - Grow You...</td>\n",
       "      <td>https://www.udemy.com/goods-and-services-tax/</td>\n",
       "      <td>True</td>\n",
       "      <td>75</td>\n",
       "      <td>2792</td>\n",
       "      <td>923</td>\n",
       "      <td>274</td>\n",
       "      <td>All Levels</td>\n",
       "      <td>39.0</td>\n",
       "      <td>2017-03-09T16:34:20Z</td>\n",
       "      <td>Business Finance</td>\n",
       "    </tr>\n",
       "    <tr>\n",
       "      <th>2</th>\n",
       "      <td>1006314</td>\n",
       "      <td>Financial Modeling for Business Analysts and C...</td>\n",
       "      <td>https://www.udemy.com/financial-modeling-for-b...</td>\n",
       "      <td>True</td>\n",
       "      <td>45</td>\n",
       "      <td>2174</td>\n",
       "      <td>74</td>\n",
       "      <td>51</td>\n",
       "      <td>Intermediate Level</td>\n",
       "      <td>2.5</td>\n",
       "      <td>2016-12-19T19:26:30Z</td>\n",
       "      <td>Business Finance</td>\n",
       "    </tr>\n",
       "    <tr>\n",
       "      <th>3</th>\n",
       "      <td>1210588</td>\n",
       "      <td>Beginner to Pro - Financial Analysis in Excel ...</td>\n",
       "      <td>https://www.udemy.com/complete-excel-finance-c...</td>\n",
       "      <td>True</td>\n",
       "      <td>95</td>\n",
       "      <td>2451</td>\n",
       "      <td>11</td>\n",
       "      <td>36</td>\n",
       "      <td>All Levels</td>\n",
       "      <td>3.0</td>\n",
       "      <td>2017-05-30T20:07:24Z</td>\n",
       "      <td>Business Finance</td>\n",
       "    </tr>\n",
       "    <tr>\n",
       "      <th>4</th>\n",
       "      <td>1011058</td>\n",
       "      <td>How To Maximize Your Profits Trading Options</td>\n",
       "      <td>https://www.udemy.com/how-to-maximize-your-pro...</td>\n",
       "      <td>True</td>\n",
       "      <td>200</td>\n",
       "      <td>1276</td>\n",
       "      <td>45</td>\n",
       "      <td>26</td>\n",
       "      <td>Intermediate Level</td>\n",
       "      <td>2.0</td>\n",
       "      <td>2016-12-13T14:57:18Z</td>\n",
       "      <td>Business Finance</td>\n",
       "    </tr>\n",
       "  </tbody>\n",
       "</table>\n",
       "</div>"
      ],
      "text/plain": [
       "   course_id                                       course_title  \\\n",
       "0    1070968                 Ultimate Investment Banking Course   \n",
       "1    1113822  Complete GST Course & Certification - Grow You...   \n",
       "2    1006314  Financial Modeling for Business Analysts and C...   \n",
       "3    1210588  Beginner to Pro - Financial Analysis in Excel ...   \n",
       "4    1011058       How To Maximize Your Profits Trading Options   \n",
       "\n",
       "                                                 url  is_paid  price  \\\n",
       "0  https://www.udemy.com/ultimate-investment-bank...     True    200   \n",
       "1      https://www.udemy.com/goods-and-services-tax/     True     75   \n",
       "2  https://www.udemy.com/financial-modeling-for-b...     True     45   \n",
       "3  https://www.udemy.com/complete-excel-finance-c...     True     95   \n",
       "4  https://www.udemy.com/how-to-maximize-your-pro...     True    200   \n",
       "\n",
       "   num_subscribers  num_reviews  num_lectures               level  \\\n",
       "0             2147           23            51          All Levels   \n",
       "1             2792          923           274          All Levels   \n",
       "2             2174           74            51  Intermediate Level   \n",
       "3             2451           11            36          All Levels   \n",
       "4             1276           45            26  Intermediate Level   \n",
       "\n",
       "   content_duration   published_timestamp           subject  \n",
       "0               1.5  2017-01-18T20:58:58Z  Business Finance  \n",
       "1              39.0  2017-03-09T16:34:20Z  Business Finance  \n",
       "2               2.5  2016-12-19T19:26:30Z  Business Finance  \n",
       "3               3.0  2017-05-30T20:07:24Z  Business Finance  \n",
       "4               2.0  2016-12-13T14:57:18Z  Business Finance  "
      ]
     },
     "execution_count": 90,
     "metadata": {},
     "output_type": "execute_result"
    }
   ],
   "source": [
    "data_Udemy.head()"
   ]
  },
  {
   "cell_type": "code",
   "execution_count": 91,
   "metadata": {},
   "outputs": [],
   "source": [
    "##Ellos solicitan segmentarlos en nivel de ventas según precio, idioma, nivel y rating de cada curso para \n",
    "##analizar qué tanto influyen dichas variables en la demanda del producto vendido."
   ]
  },
  {
   "cell_type": "code",
   "execution_count": 92,
   "metadata": {},
   "outputs": [
    {
     "data": {
      "text/plain": [
       "All Levels            1929\n",
       "Beginner Level        1270\n",
       "Intermediate Level     421\n",
       "Expert Level            58\n",
       "Name: level, dtype: int64"
      ]
     },
     "execution_count": 92,
     "metadata": {},
     "output_type": "execute_result"
    }
   ],
   "source": [
    "data_Udemy['level'].value_counts() ##observamos los diferentes tipos de niveles"
   ]
  },
  {
   "cell_type": "code",
   "execution_count": 93,
   "metadata": {},
   "outputs": [],
   "source": [
    "##hacemos un filtro sobre las columnas de interes para ver como influyen en el producto vendido\n",
    "data_udemy_filtro = data_Udemy.copy() ##hago una copia y dropeo las columas que no me interesan\n"
   ]
  },
  {
   "cell_type": "code",
   "execution_count": 94,
   "metadata": {},
   "outputs": [],
   "source": [
    "data_udemy_filtro.drop(['url','is_paid','num_reviews','content_duration','published_timestamp','subject'], axis=1,inplace=True)"
   ]
  },
  {
   "cell_type": "code",
   "execution_count": 95,
   "metadata": {},
   "outputs": [
    {
     "data": {
      "text/html": [
       "<div>\n",
       "<style scoped>\n",
       "    .dataframe tbody tr th:only-of-type {\n",
       "        vertical-align: middle;\n",
       "    }\n",
       "\n",
       "    .dataframe tbody tr th {\n",
       "        vertical-align: top;\n",
       "    }\n",
       "\n",
       "    .dataframe thead th {\n",
       "        text-align: right;\n",
       "    }\n",
       "</style>\n",
       "<table border=\"1\" class=\"dataframe\">\n",
       "  <thead>\n",
       "    <tr style=\"text-align: right;\">\n",
       "      <th></th>\n",
       "      <th>course_id</th>\n",
       "      <th>course_title</th>\n",
       "      <th>price</th>\n",
       "      <th>num_subscribers</th>\n",
       "      <th>num_lectures</th>\n",
       "      <th>level</th>\n",
       "    </tr>\n",
       "  </thead>\n",
       "  <tbody>\n",
       "    <tr>\n",
       "      <th>0</th>\n",
       "      <td>1070968</td>\n",
       "      <td>Ultimate Investment Banking Course</td>\n",
       "      <td>200</td>\n",
       "      <td>2147</td>\n",
       "      <td>51</td>\n",
       "      <td>All Levels</td>\n",
       "    </tr>\n",
       "    <tr>\n",
       "      <th>1</th>\n",
       "      <td>1113822</td>\n",
       "      <td>Complete GST Course &amp; Certification - Grow You...</td>\n",
       "      <td>75</td>\n",
       "      <td>2792</td>\n",
       "      <td>274</td>\n",
       "      <td>All Levels</td>\n",
       "    </tr>\n",
       "    <tr>\n",
       "      <th>2</th>\n",
       "      <td>1006314</td>\n",
       "      <td>Financial Modeling for Business Analysts and C...</td>\n",
       "      <td>45</td>\n",
       "      <td>2174</td>\n",
       "      <td>51</td>\n",
       "      <td>Intermediate Level</td>\n",
       "    </tr>\n",
       "    <tr>\n",
       "      <th>3</th>\n",
       "      <td>1210588</td>\n",
       "      <td>Beginner to Pro - Financial Analysis in Excel ...</td>\n",
       "      <td>95</td>\n",
       "      <td>2451</td>\n",
       "      <td>36</td>\n",
       "      <td>All Levels</td>\n",
       "    </tr>\n",
       "    <tr>\n",
       "      <th>4</th>\n",
       "      <td>1011058</td>\n",
       "      <td>How To Maximize Your Profits Trading Options</td>\n",
       "      <td>200</td>\n",
       "      <td>1276</td>\n",
       "      <td>26</td>\n",
       "      <td>Intermediate Level</td>\n",
       "    </tr>\n",
       "    <tr>\n",
       "      <th>...</th>\n",
       "      <td>...</td>\n",
       "      <td>...</td>\n",
       "      <td>...</td>\n",
       "      <td>...</td>\n",
       "      <td>...</td>\n",
       "      <td>...</td>\n",
       "    </tr>\n",
       "    <tr>\n",
       "      <th>3673</th>\n",
       "      <td>775618</td>\n",
       "      <td>Learn jQuery from Scratch - Master of JavaScri...</td>\n",
       "      <td>100</td>\n",
       "      <td>1040</td>\n",
       "      <td>21</td>\n",
       "      <td>All Levels</td>\n",
       "    </tr>\n",
       "    <tr>\n",
       "      <th>3674</th>\n",
       "      <td>1088178</td>\n",
       "      <td>How To Design A WordPress Website With No Codi...</td>\n",
       "      <td>25</td>\n",
       "      <td>306</td>\n",
       "      <td>42</td>\n",
       "      <td>Beginner Level</td>\n",
       "    </tr>\n",
       "    <tr>\n",
       "      <th>3675</th>\n",
       "      <td>635248</td>\n",
       "      <td>Learn and Build using Polymer</td>\n",
       "      <td>40</td>\n",
       "      <td>513</td>\n",
       "      <td>48</td>\n",
       "      <td>All Levels</td>\n",
       "    </tr>\n",
       "    <tr>\n",
       "      <th>3676</th>\n",
       "      <td>905096</td>\n",
       "      <td>CSS Animations: Create Amazing Effects on Your...</td>\n",
       "      <td>50</td>\n",
       "      <td>300</td>\n",
       "      <td>38</td>\n",
       "      <td>All Levels</td>\n",
       "    </tr>\n",
       "    <tr>\n",
       "      <th>3677</th>\n",
       "      <td>297602</td>\n",
       "      <td>Using MODX CMS to Build Websites: A Beginner's...</td>\n",
       "      <td>45</td>\n",
       "      <td>901</td>\n",
       "      <td>20</td>\n",
       "      <td>Beginner Level</td>\n",
       "    </tr>\n",
       "  </tbody>\n",
       "</table>\n",
       "<p>3678 rows × 6 columns</p>\n",
       "</div>"
      ],
      "text/plain": [
       "      course_id                                       course_title  price  \\\n",
       "0       1070968                 Ultimate Investment Banking Course    200   \n",
       "1       1113822  Complete GST Course & Certification - Grow You...     75   \n",
       "2       1006314  Financial Modeling for Business Analysts and C...     45   \n",
       "3       1210588  Beginner to Pro - Financial Analysis in Excel ...     95   \n",
       "4       1011058       How To Maximize Your Profits Trading Options    200   \n",
       "...         ...                                                ...    ...   \n",
       "3673     775618  Learn jQuery from Scratch - Master of JavaScri...    100   \n",
       "3674    1088178  How To Design A WordPress Website With No Codi...     25   \n",
       "3675     635248                      Learn and Build using Polymer     40   \n",
       "3676     905096  CSS Animations: Create Amazing Effects on Your...     50   \n",
       "3677     297602  Using MODX CMS to Build Websites: A Beginner's...     45   \n",
       "\n",
       "      num_subscribers  num_lectures               level  \n",
       "0                2147            51          All Levels  \n",
       "1                2792           274          All Levels  \n",
       "2                2174            51  Intermediate Level  \n",
       "3                2451            36          All Levels  \n",
       "4                1276            26  Intermediate Level  \n",
       "...               ...           ...                 ...  \n",
       "3673             1040            21          All Levels  \n",
       "3674              306            42      Beginner Level  \n",
       "3675              513            48          All Levels  \n",
       "3676              300            38          All Levels  \n",
       "3677              901            20      Beginner Level  \n",
       "\n",
       "[3678 rows x 6 columns]"
      ]
     },
     "execution_count": 95,
     "metadata": {},
     "output_type": "execute_result"
    }
   ],
   "source": [
    "data_udemy_filtro"
   ]
  },
  {
   "cell_type": "code",
   "execution_count": 96,
   "metadata": {},
   "outputs": [
    {
     "data": {
      "text/html": [
       "<div>\n",
       "<style scoped>\n",
       "    .dataframe tbody tr th:only-of-type {\n",
       "        vertical-align: middle;\n",
       "    }\n",
       "\n",
       "    .dataframe tbody tr th {\n",
       "        vertical-align: top;\n",
       "    }\n",
       "\n",
       "    .dataframe thead th {\n",
       "        text-align: right;\n",
       "    }\n",
       "</style>\n",
       "<table border=\"1\" class=\"dataframe\">\n",
       "  <thead>\n",
       "    <tr style=\"text-align: right;\">\n",
       "      <th></th>\n",
       "      <th>course_id</th>\n",
       "      <th>course_title</th>\n",
       "      <th>price</th>\n",
       "      <th>num_subscribers</th>\n",
       "      <th>num_lectures</th>\n",
       "      <th>level</th>\n",
       "    </tr>\n",
       "  </thead>\n",
       "  <tbody>\n",
       "    <tr>\n",
       "      <th>2827</th>\n",
       "      <td>41295</td>\n",
       "      <td>Learn HTML5 Programming From Scratch</td>\n",
       "      <td>0</td>\n",
       "      <td>268923</td>\n",
       "      <td>45</td>\n",
       "      <td>All Levels</td>\n",
       "    </tr>\n",
       "    <tr>\n",
       "      <th>3032</th>\n",
       "      <td>59014</td>\n",
       "      <td>Coding for Entrepreneurs Basic</td>\n",
       "      <td>0</td>\n",
       "      <td>161029</td>\n",
       "      <td>27</td>\n",
       "      <td>Beginner Level</td>\n",
       "    </tr>\n",
       "    <tr>\n",
       "      <th>3230</th>\n",
       "      <td>625204</td>\n",
       "      <td>The Web Developer Bootcamp</td>\n",
       "      <td>200</td>\n",
       "      <td>121584</td>\n",
       "      <td>342</td>\n",
       "      <td>All Levels</td>\n",
       "    </tr>\n",
       "    <tr>\n",
       "      <th>2783</th>\n",
       "      <td>173548</td>\n",
       "      <td>Build Your First Website in 1 Week with HTML5 ...</td>\n",
       "      <td>0</td>\n",
       "      <td>120291</td>\n",
       "      <td>30</td>\n",
       "      <td>Beginner Level</td>\n",
       "    </tr>\n",
       "    <tr>\n",
       "      <th>3232</th>\n",
       "      <td>764164</td>\n",
       "      <td>The Complete Web Developer Course 2.0</td>\n",
       "      <td>200</td>\n",
       "      <td>114512</td>\n",
       "      <td>304</td>\n",
       "      <td>All Levels</td>\n",
       "    </tr>\n",
       "    <tr>\n",
       "      <th>1896</th>\n",
       "      <td>19421</td>\n",
       "      <td>Free Beginner Electric Guitar Lessons</td>\n",
       "      <td>0</td>\n",
       "      <td>101154</td>\n",
       "      <td>95</td>\n",
       "      <td>Beginner Level</td>\n",
       "    </tr>\n",
       "    <tr>\n",
       "      <th>2589</th>\n",
       "      <td>473160</td>\n",
       "      <td>Web Design for Web Developers: Build Beautiful...</td>\n",
       "      <td>0</td>\n",
       "      <td>98867</td>\n",
       "      <td>20</td>\n",
       "      <td>All Levels</td>\n",
       "    </tr>\n",
       "    <tr>\n",
       "      <th>2619</th>\n",
       "      <td>94430</td>\n",
       "      <td>Learn Javascript &amp; JQuery From Scratch</td>\n",
       "      <td>30</td>\n",
       "      <td>84897</td>\n",
       "      <td>10</td>\n",
       "      <td>All Levels</td>\n",
       "    </tr>\n",
       "    <tr>\n",
       "      <th>3289</th>\n",
       "      <td>130064</td>\n",
       "      <td>Practical PHP: Master the Basics and Code Dyna...</td>\n",
       "      <td>0</td>\n",
       "      <td>83737</td>\n",
       "      <td>45</td>\n",
       "      <td>All Levels</td>\n",
       "    </tr>\n",
       "    <tr>\n",
       "      <th>3247</th>\n",
       "      <td>364426</td>\n",
       "      <td>JavaScript: Understanding the Weird Parts</td>\n",
       "      <td>175</td>\n",
       "      <td>79612</td>\n",
       "      <td>85</td>\n",
       "      <td>All Levels</td>\n",
       "    </tr>\n",
       "    <tr>\n",
       "      <th>1979</th>\n",
       "      <td>238934</td>\n",
       "      <td>Pianoforall - Incredible New Way To Learn Pian...</td>\n",
       "      <td>200</td>\n",
       "      <td>75499</td>\n",
       "      <td>362</td>\n",
       "      <td>All Levels</td>\n",
       "    </tr>\n",
       "    <tr>\n",
       "      <th>3204</th>\n",
       "      <td>756150</td>\n",
       "      <td>Angular 4 (formerly Angular 2) - The Complete ...</td>\n",
       "      <td>190</td>\n",
       "      <td>73783</td>\n",
       "      <td>329</td>\n",
       "      <td>All Levels</td>\n",
       "    </tr>\n",
       "    <tr>\n",
       "      <th>3665</th>\n",
       "      <td>21386</td>\n",
       "      <td>Beginner Photoshop to HTML5 and CSS3</td>\n",
       "      <td>0</td>\n",
       "      <td>73110</td>\n",
       "      <td>22</td>\n",
       "      <td>All Levels</td>\n",
       "    </tr>\n",
       "    <tr>\n",
       "      <th>2782</th>\n",
       "      <td>65330</td>\n",
       "      <td>Web Development By Doing: HTML / CSS From Scratch</td>\n",
       "      <td>0</td>\n",
       "      <td>72932</td>\n",
       "      <td>21</td>\n",
       "      <td>Beginner Level</td>\n",
       "    </tr>\n",
       "    <tr>\n",
       "      <th>3325</th>\n",
       "      <td>405926</td>\n",
       "      <td>HTML and CSS for Beginners - Build a Website &amp;...</td>\n",
       "      <td>0</td>\n",
       "      <td>70773</td>\n",
       "      <td>50</td>\n",
       "      <td>All Levels</td>\n",
       "    </tr>\n",
       "    <tr>\n",
       "      <th>2701</th>\n",
       "      <td>11174</td>\n",
       "      <td>Become a Web Developer from Scratch</td>\n",
       "      <td>120</td>\n",
       "      <td>69186</td>\n",
       "      <td>197</td>\n",
       "      <td>All Levels</td>\n",
       "    </tr>\n",
       "    <tr>\n",
       "      <th>492</th>\n",
       "      <td>49798</td>\n",
       "      <td>Bitcoin or How I Learned to Stop Worrying and ...</td>\n",
       "      <td>0</td>\n",
       "      <td>65576</td>\n",
       "      <td>24</td>\n",
       "      <td>All Levels</td>\n",
       "    </tr>\n",
       "    <tr>\n",
       "      <th>2592</th>\n",
       "      <td>314462</td>\n",
       "      <td>Quickstart AngularJS</td>\n",
       "      <td>0</td>\n",
       "      <td>64128</td>\n",
       "      <td>17</td>\n",
       "      <td>Beginner Level</td>\n",
       "    </tr>\n",
       "    <tr>\n",
       "      <th>3219</th>\n",
       "      <td>128946</td>\n",
       "      <td>Learn Responsive Web Development from Scratch</td>\n",
       "      <td>0</td>\n",
       "      <td>59639</td>\n",
       "      <td>24</td>\n",
       "      <td>All Levels</td>\n",
       "    </tr>\n",
       "    <tr>\n",
       "      <th>3246</th>\n",
       "      <td>289230</td>\n",
       "      <td>Learn and Understand AngularJS</td>\n",
       "      <td>175</td>\n",
       "      <td>59361</td>\n",
       "      <td>55</td>\n",
       "      <td>All Levels</td>\n",
       "    </tr>\n",
       "    <tr>\n",
       "      <th>3251</th>\n",
       "      <td>461160</td>\n",
       "      <td>Learn and Understand NodeJS</td>\n",
       "      <td>195</td>\n",
       "      <td>58208</td>\n",
       "      <td>98</td>\n",
       "      <td>All Levels</td>\n",
       "    </tr>\n",
       "    <tr>\n",
       "      <th>2662</th>\n",
       "      <td>556248</td>\n",
       "      <td>The Complete HTML &amp; CSS Course - From Novice T...</td>\n",
       "      <td>195</td>\n",
       "      <td>57422</td>\n",
       "      <td>84</td>\n",
       "      <td>All Levels</td>\n",
       "    </tr>\n",
       "    <tr>\n",
       "      <th>143</th>\n",
       "      <td>48841</td>\n",
       "      <td>Accounting in 60 Minutes - A Brief Introduction</td>\n",
       "      <td>0</td>\n",
       "      <td>56659</td>\n",
       "      <td>16</td>\n",
       "      <td>Beginner Level</td>\n",
       "    </tr>\n",
       "    <tr>\n",
       "      <th>3175</th>\n",
       "      <td>580466</td>\n",
       "      <td>Complete PHP Course With Bootstrap3 CMS System...</td>\n",
       "      <td>195</td>\n",
       "      <td>55332</td>\n",
       "      <td>144</td>\n",
       "      <td>All Levels</td>\n",
       "    </tr>\n",
       "    <tr>\n",
       "      <th>1461</th>\n",
       "      <td>348116</td>\n",
       "      <td>Photoshop In-Depth: Master all of Photoshop's ...</td>\n",
       "      <td>0</td>\n",
       "      <td>53851</td>\n",
       "      <td>45</td>\n",
       "      <td>All Levels</td>\n",
       "    </tr>\n",
       "    <tr>\n",
       "      <th>3205</th>\n",
       "      <td>80940</td>\n",
       "      <td>Build Websites from Scratch with HTML &amp; CSS</td>\n",
       "      <td>145</td>\n",
       "      <td>51257</td>\n",
       "      <td>77</td>\n",
       "      <td>Beginner Level</td>\n",
       "    </tr>\n",
       "    <tr>\n",
       "      <th>103</th>\n",
       "      <td>133536</td>\n",
       "      <td>Stock Market Investing for Beginners</td>\n",
       "      <td>0</td>\n",
       "      <td>50855</td>\n",
       "      <td>15</td>\n",
       "      <td>Beginner Level</td>\n",
       "    </tr>\n",
       "    <tr>\n",
       "      <th>3254</th>\n",
       "      <td>705264</td>\n",
       "      <td>Modern React with Redux</td>\n",
       "      <td>180</td>\n",
       "      <td>50815</td>\n",
       "      <td>150</td>\n",
       "      <td>All Levels</td>\n",
       "    </tr>\n",
       "    <tr>\n",
       "      <th>3291</th>\n",
       "      <td>94432</td>\n",
       "      <td>Learn PHP Fundamentals From Scratch</td>\n",
       "      <td>0</td>\n",
       "      <td>48650</td>\n",
       "      <td>9</td>\n",
       "      <td>Beginner Level</td>\n",
       "    </tr>\n",
       "    <tr>\n",
       "      <th>2479</th>\n",
       "      <td>19603</td>\n",
       "      <td>Learning Dynamic Website Design - PHP MySQL an...</td>\n",
       "      <td>50</td>\n",
       "      <td>47886</td>\n",
       "      <td>125</td>\n",
       "      <td>All Levels</td>\n",
       "    </tr>\n",
       "    <tr>\n",
       "      <th>1286</th>\n",
       "      <td>17349</td>\n",
       "      <td>Figure Drawing From Life Using The Reilly Tech...</td>\n",
       "      <td>0</td>\n",
       "      <td>47811</td>\n",
       "      <td>22</td>\n",
       "      <td>All Levels</td>\n",
       "    </tr>\n",
       "    <tr>\n",
       "      <th>2004</th>\n",
       "      <td>41884</td>\n",
       "      <td>Getting Started with Playing Guitar</td>\n",
       "      <td>0</td>\n",
       "      <td>47652</td>\n",
       "      <td>26</td>\n",
       "      <td>Beginner Level</td>\n",
       "    </tr>\n",
       "    <tr>\n",
       "      <th>3385</th>\n",
       "      <td>707962</td>\n",
       "      <td>Javascript Essentials</td>\n",
       "      <td>0</td>\n",
       "      <td>47062</td>\n",
       "      <td>41</td>\n",
       "      <td>Beginner Level</td>\n",
       "    </tr>\n",
       "    <tr>\n",
       "      <th>1390</th>\n",
       "      <td>399938</td>\n",
       "      <td>Professional Logo Design in Adobe Illustrator</td>\n",
       "      <td>0</td>\n",
       "      <td>44044</td>\n",
       "      <td>45</td>\n",
       "      <td>All Levels</td>\n",
       "    </tr>\n",
       "    <tr>\n",
       "      <th>3249</th>\n",
       "      <td>437398</td>\n",
       "      <td>Build Responsive Real World Websites with HTML...</td>\n",
       "      <td>195</td>\n",
       "      <td>43977</td>\n",
       "      <td>77</td>\n",
       "      <td>All Levels</td>\n",
       "    </tr>\n",
       "    <tr>\n",
       "      <th>2478</th>\n",
       "      <td>28295</td>\n",
       "      <td>Learn Web Designing &amp; HTML5/CSS3 Essentials in...</td>\n",
       "      <td>75</td>\n",
       "      <td>43285</td>\n",
       "      <td>24</td>\n",
       "      <td>All Levels</td>\n",
       "    </tr>\n",
       "    <tr>\n",
       "      <th>2561</th>\n",
       "      <td>28295</td>\n",
       "      <td>Learn Web Designing &amp; HTML5/CSS3 Essentials in...</td>\n",
       "      <td>75</td>\n",
       "      <td>43285</td>\n",
       "      <td>24</td>\n",
       "      <td>All Levels</td>\n",
       "    </tr>\n",
       "    <tr>\n",
       "      <th>3328</th>\n",
       "      <td>708578</td>\n",
       "      <td>Bootstrap 4 Quick Start: Code Modern Responsiv...</td>\n",
       "      <td>0</td>\n",
       "      <td>41478</td>\n",
       "      <td>13</td>\n",
       "      <td>All Levels</td>\n",
       "    </tr>\n",
       "    <tr>\n",
       "      <th>3228</th>\n",
       "      <td>719002</td>\n",
       "      <td>Angular 2 with TypeScript for Beginners: The P...</td>\n",
       "      <td>150</td>\n",
       "      <td>40070</td>\n",
       "      <td>194</td>\n",
       "      <td>All Levels</td>\n",
       "    </tr>\n",
       "    <tr>\n",
       "      <th>2806</th>\n",
       "      <td>674608</td>\n",
       "      <td>The Complete Web Developer Masterclass: Beginn...</td>\n",
       "      <td>195</td>\n",
       "      <td>37141</td>\n",
       "      <td>316</td>\n",
       "      <td>All Levels</td>\n",
       "    </tr>\n",
       "    <tr>\n",
       "      <th>3238</th>\n",
       "      <td>772618</td>\n",
       "      <td>Learn Object Oriented PHP By Building a Comple...</td>\n",
       "      <td>0</td>\n",
       "      <td>36322</td>\n",
       "      <td>32</td>\n",
       "      <td>All Levels</td>\n",
       "    </tr>\n",
       "    <tr>\n",
       "      <th>1213</th>\n",
       "      <td>820194</td>\n",
       "      <td>Photoshop for Entrepreneurs - Design 11 Practi...</td>\n",
       "      <td>200</td>\n",
       "      <td>36288</td>\n",
       "      <td>63</td>\n",
       "      <td>All Levels</td>\n",
       "    </tr>\n",
       "    <tr>\n",
       "      <th>2497</th>\n",
       "      <td>16646</td>\n",
       "      <td>Web Programming with Python</td>\n",
       "      <td>50</td>\n",
       "      <td>35267</td>\n",
       "      <td>53</td>\n",
       "      <td>All Levels</td>\n",
       "    </tr>\n",
       "    <tr>\n",
       "      <th>3233</th>\n",
       "      <td>446134</td>\n",
       "      <td>Ultimate Web Designer &amp; Developer Course: Buil...</td>\n",
       "      <td>200</td>\n",
       "      <td>33788</td>\n",
       "      <td>246</td>\n",
       "      <td>All Levels</td>\n",
       "    </tr>\n",
       "    <tr>\n",
       "      <th>3208</th>\n",
       "      <td>519442</td>\n",
       "      <td>The Complete Ruby on Rails Developer Course</td>\n",
       "      <td>195</td>\n",
       "      <td>33677</td>\n",
       "      <td>283</td>\n",
       "      <td>All Levels</td>\n",
       "    </tr>\n",
       "    <tr>\n",
       "      <th>1531</th>\n",
       "      <td>249126</td>\n",
       "      <td>Logo Design Essentials</td>\n",
       "      <td>20</td>\n",
       "      <td>33205</td>\n",
       "      <td>12</td>\n",
       "      <td>All Levels</td>\n",
       "    </tr>\n",
       "    <tr>\n",
       "      <th>1982</th>\n",
       "      <td>42271</td>\n",
       "      <td>Complete Guitar System - Beginner to Advanced</td>\n",
       "      <td>145</td>\n",
       "      <td>32935</td>\n",
       "      <td>310</td>\n",
       "      <td>All Levels</td>\n",
       "    </tr>\n",
       "    <tr>\n",
       "      <th>3184</th>\n",
       "      <td>949282</td>\n",
       "      <td>Learn Angular 2 from Beginner to Advanced</td>\n",
       "      <td>195</td>\n",
       "      <td>32696</td>\n",
       "      <td>67</td>\n",
       "      <td>Beginner Level</td>\n",
       "    </tr>\n",
       "    <tr>\n",
       "      <th>2779</th>\n",
       "      <td>294794</td>\n",
       "      <td>Create An HTML5 Video Player From Scratch</td>\n",
       "      <td>0</td>\n",
       "      <td>32260</td>\n",
       "      <td>12</td>\n",
       "      <td>Beginner Level</td>\n",
       "    </tr>\n",
       "    <tr>\n",
       "      <th>2814</th>\n",
       "      <td>695656</td>\n",
       "      <td>The Complete JavaScript Course For Web Develop...</td>\n",
       "      <td>195</td>\n",
       "      <td>31499</td>\n",
       "      <td>46</td>\n",
       "      <td>All Levels</td>\n",
       "    </tr>\n",
       "  </tbody>\n",
       "</table>\n",
       "</div>"
      ],
      "text/plain": [
       "      course_id                                       course_title  price  \\\n",
       "2827      41295               Learn HTML5 Programming From Scratch      0   \n",
       "3032      59014                     Coding for Entrepreneurs Basic      0   \n",
       "3230     625204                         The Web Developer Bootcamp    200   \n",
       "2783     173548  Build Your First Website in 1 Week with HTML5 ...      0   \n",
       "3232     764164              The Complete Web Developer Course 2.0    200   \n",
       "1896      19421              Free Beginner Electric Guitar Lessons      0   \n",
       "2589     473160  Web Design for Web Developers: Build Beautiful...      0   \n",
       "2619      94430             Learn Javascript & JQuery From Scratch     30   \n",
       "3289     130064  Practical PHP: Master the Basics and Code Dyna...      0   \n",
       "3247     364426          JavaScript: Understanding the Weird Parts    175   \n",
       "1979     238934  Pianoforall - Incredible New Way To Learn Pian...    200   \n",
       "3204     756150  Angular 4 (formerly Angular 2) - The Complete ...    190   \n",
       "3665      21386               Beginner Photoshop to HTML5 and CSS3      0   \n",
       "2782      65330  Web Development By Doing: HTML / CSS From Scratch      0   \n",
       "3325     405926  HTML and CSS for Beginners - Build a Website &...      0   \n",
       "2701      11174                Become a Web Developer from Scratch    120   \n",
       "492       49798  Bitcoin or How I Learned to Stop Worrying and ...      0   \n",
       "2592     314462                               Quickstart AngularJS      0   \n",
       "3219     128946      Learn Responsive Web Development from Scratch      0   \n",
       "3246     289230                     Learn and Understand AngularJS    175   \n",
       "3251     461160                        Learn and Understand NodeJS    195   \n",
       "2662     556248  The Complete HTML & CSS Course - From Novice T...    195   \n",
       "143       48841    Accounting in 60 Minutes - A Brief Introduction      0   \n",
       "3175     580466  Complete PHP Course With Bootstrap3 CMS System...    195   \n",
       "1461     348116  Photoshop In-Depth: Master all of Photoshop's ...      0   \n",
       "3205      80940        Build Websites from Scratch with HTML & CSS    145   \n",
       "103      133536               Stock Market Investing for Beginners      0   \n",
       "3254     705264                            Modern React with Redux    180   \n",
       "3291      94432                Learn PHP Fundamentals From Scratch      0   \n",
       "2479      19603  Learning Dynamic Website Design - PHP MySQL an...     50   \n",
       "1286      17349  Figure Drawing From Life Using The Reilly Tech...      0   \n",
       "2004      41884                Getting Started with Playing Guitar      0   \n",
       "3385     707962                              Javascript Essentials      0   \n",
       "1390     399938      Professional Logo Design in Adobe Illustrator      0   \n",
       "3249     437398  Build Responsive Real World Websites with HTML...    195   \n",
       "2478      28295  Learn Web Designing & HTML5/CSS3 Essentials in...     75   \n",
       "2561      28295  Learn Web Designing & HTML5/CSS3 Essentials in...     75   \n",
       "3328     708578  Bootstrap 4 Quick Start: Code Modern Responsiv...      0   \n",
       "3228     719002  Angular 2 with TypeScript for Beginners: The P...    150   \n",
       "2806     674608  The Complete Web Developer Masterclass: Beginn...    195   \n",
       "3238     772618  Learn Object Oriented PHP By Building a Comple...      0   \n",
       "1213     820194  Photoshop for Entrepreneurs - Design 11 Practi...    200   \n",
       "2497      16646                        Web Programming with Python     50   \n",
       "3233     446134  Ultimate Web Designer & Developer Course: Buil...    200   \n",
       "3208     519442        The Complete Ruby on Rails Developer Course    195   \n",
       "1531     249126                            Logo Design Essentials      20   \n",
       "1982      42271      Complete Guitar System - Beginner to Advanced    145   \n",
       "3184     949282          Learn Angular 2 from Beginner to Advanced    195   \n",
       "2779     294794          Create An HTML5 Video Player From Scratch      0   \n",
       "2814     695656  The Complete JavaScript Course For Web Develop...    195   \n",
       "\n",
       "      num_subscribers  num_lectures           level  \n",
       "2827           268923            45      All Levels  \n",
       "3032           161029            27  Beginner Level  \n",
       "3230           121584           342      All Levels  \n",
       "2783           120291            30  Beginner Level  \n",
       "3232           114512           304      All Levels  \n",
       "1896           101154            95  Beginner Level  \n",
       "2589            98867            20      All Levels  \n",
       "2619            84897            10      All Levels  \n",
       "3289            83737            45      All Levels  \n",
       "3247            79612            85      All Levels  \n",
       "1979            75499           362      All Levels  \n",
       "3204            73783           329      All Levels  \n",
       "3665            73110            22      All Levels  \n",
       "2782            72932            21  Beginner Level  \n",
       "3325            70773            50      All Levels  \n",
       "2701            69186           197      All Levels  \n",
       "492             65576            24      All Levels  \n",
       "2592            64128            17  Beginner Level  \n",
       "3219            59639            24      All Levels  \n",
       "3246            59361            55      All Levels  \n",
       "3251            58208            98      All Levels  \n",
       "2662            57422            84      All Levels  \n",
       "143             56659            16  Beginner Level  \n",
       "3175            55332           144      All Levels  \n",
       "1461            53851            45      All Levels  \n",
       "3205            51257            77  Beginner Level  \n",
       "103             50855            15  Beginner Level  \n",
       "3254            50815           150      All Levels  \n",
       "3291            48650             9  Beginner Level  \n",
       "2479            47886           125      All Levels  \n",
       "1286            47811            22      All Levels  \n",
       "2004            47652            26  Beginner Level  \n",
       "3385            47062            41  Beginner Level  \n",
       "1390            44044            45      All Levels  \n",
       "3249            43977            77      All Levels  \n",
       "2478            43285            24      All Levels  \n",
       "2561            43285            24      All Levels  \n",
       "3328            41478            13      All Levels  \n",
       "3228            40070           194      All Levels  \n",
       "2806            37141           316      All Levels  \n",
       "3238            36322            32      All Levels  \n",
       "1213            36288            63      All Levels  \n",
       "2497            35267            53      All Levels  \n",
       "3233            33788           246      All Levels  \n",
       "3208            33677           283      All Levels  \n",
       "1531            33205            12      All Levels  \n",
       "1982            32935           310      All Levels  \n",
       "3184            32696            67  Beginner Level  \n",
       "2779            32260            12  Beginner Level  \n",
       "2814            31499            46      All Levels  "
      ]
     },
     "execution_count": 96,
     "metadata": {},
     "output_type": "execute_result"
    }
   ],
   "source": [
    "data_udemy_filtro.sort_values(['num_subscribers'],ascending=False).head(50)"
   ]
  },
  {
   "cell_type": "code",
   "execution_count": 97,
   "metadata": {},
   "outputs": [
    {
     "data": {
      "text/plain": [
       "course_id                                                      79154\n",
       "course_title       Back to School Web Development and Programming...\n",
       "price                                                            200\n",
       "num_subscribers                                                18170\n",
       "num_lectures                                                     779\n",
       "level                                                 Beginner Level\n",
       "Name: 2707, dtype: object"
      ]
     },
     "execution_count": 97,
     "metadata": {},
     "output_type": "execute_result"
    }
   ],
   "source": [
    "data_udemy_filtro.loc[data_udemy_filtro.num_lectures.idxmax()]  \n",
    "#Visualizamos el curso que más se ha leido, se podria decir que este es el mejor curso"
   ]
  },
  {
   "cell_type": "code",
   "execution_count": 98,
   "metadata": {},
   "outputs": [
    {
     "data": {
      "text/plain": [
       "course_id                                                     627332\n",
       "course_title       Mutual Funds for Investors in Retirement Accounts\n",
       "price                                                             20\n",
       "num_subscribers                                                    0\n",
       "num_lectures                                                       0\n",
       "level                                                     All Levels\n",
       "Name: 892, dtype: object"
      ]
     },
     "execution_count": 98,
     "metadata": {},
     "output_type": "execute_result"
    }
   ],
   "source": [
    "data_udemy_filtro.loc[data_udemy_filtro.num_lectures.idxmin()] \n",
    "##Visualizamos el curso que menos se ha leido, el precio es bajo, no tiene suscriptores y tampoco lecturas"
   ]
  },
  {
   "cell_type": "code",
   "execution_count": 99,
   "metadata": {},
   "outputs": [
    {
     "data": {
      "text/plain": [
       "course_id                                                      79154\n",
       "course_title       Back to School Web Development and Programming...\n",
       "price                                                            200\n",
       "num_subscribers                                                18170\n",
       "num_lectures                                                     779\n",
       "level                                                 Beginner Level\n",
       "Name: 2707, dtype: object"
      ]
     },
     "execution_count": 99,
     "metadata": {},
     "output_type": "execute_result"
    }
   ],
   "source": [
    "data_udemy_filtro.loc[data_udemy_filtro.num_lectures.idxmax()]\n",
    "##Visualizamos el curso que más se ha leido, se puede apreciar que el precio es de 200$ siendo este el precio tope en la columna price"
   ]
  },
  {
   "cell_type": "code",
   "execution_count": 100,
   "metadata": {},
   "outputs": [
    {
     "data": {
      "image/png": "[encoded data removed]",
      "text/plain": [
       "<Figure size 640x480 with 1 Axes>"
      ]
     },
     "metadata": {},
     "output_type": "display_data"
    }
   ],
   "source": [
    "plt.hist(data_udemy_filtro.price, bins= 20)  ##ploteamos con respecto al precio para ver cuál es el precio que la gente esta dispuesta a pagar\n",
    "plt.xlabel('Precios')\n",
    "plt.ylabel('Más vendido')\n",
    "plt.grid()\n",
    "plt.show()"
   ]
  },
  {
   "cell_type": "code",
   "execution_count": 101,
   "metadata": {},
   "outputs": [
    {
     "data": {
      "text/plain": [
       "0.3301604481628124"
      ]
     },
     "execution_count": 101,
     "metadata": {},
     "output_type": "execute_result"
    }
   ],
   "source": [
    "data_udemy_filtro['price'].corr(data_udemy_filtro['num_lectures']) ##calculamos la correlacion entre el precio y numero de lecturas"
   ]
  },
  {
   "attachments": {},
   "cell_type": "markdown",
   "metadata": {},
   "source": [
    "El coeficiente de correlación es 0.3301604481628124. Dado que esta correlación es positiva, nos dice que los precios y los números de lecturas están correlacionados positivamente. En otras palabras, a medida que aumentan los valores en la columna de precios, los valores en la columna de número de lecturas tienden a aumentar."
   ]
  },
  {
   "cell_type": "code",
   "execution_count": 102,
   "metadata": {},
   "outputs": [
    {
     "data": {
      "text/plain": [
       "0.05076934882586656"
      ]
     },
     "execution_count": 102,
     "metadata": {},
     "output_type": "execute_result"
    }
   ],
   "source": [
    "data_udemy_filtro['price'].corr(data_udemy_filtro['num_subscribers'])"
   ]
  },
  {
   "attachments": {},
   "cell_type": "markdown",
   "metadata": {},
   "source": [
    "El coheficiente de correlación es de 0.05076934882586656. Las columnas price y número de suscriptores se correlacionan positivamente. Mientras que más aumentan los precios aumentan el numero de suscriptores, hablando coloquialmente una parte de la población esta dispuesta a pagar más o suscribirse en un curso de buena calidad, como dice el dicho lo barato sale caro, por esto la gente siempre busca la mejor marca o aquel producto que le ofrezca mucho más de lo que le ofrece otros productos. En nuestro analisis no quiere decir que los cursos que valen aproximadamente 25$ sean malos, no!, ya que hay una buena cantidad de personas que han pagado por estos cursos, sin embargo hay una parte de la población que compran y se suscriben a los cursos de mayor valor porque buscan algo más que solo lo basico, por ejemplo los clientes buscan cursos que no solo le den las clases del curso en vivo o grabadas, también buscan variables donde el curso ofrezca certificación o que sean para aprender las habilidades más demandadas en el mercado actual."
   ]
  },
  {
   "attachments": {},
   "cell_type": "markdown",
   "metadata": {},
   "source": [
    "                                         Análisis gráfico udemy"
   ]
  },
  {
   "cell_type": "code",
   "execution_count": 103,
   "metadata": {},
   "outputs": [
    {
     "data": {
      "image/png": "[encoded data removed]",
      "text/plain": [
       "<Figure size 600x400 with 1 Axes>"
      ]
     },
     "metadata": {},
     "output_type": "display_data"
    }
   ],
   "source": [
    "# Gráfico\n",
    "\n",
    "fig, ax = plt.subplots(1, 1, figsize=(6,4))\n",
    "ax.scatter(x=data_udemy_filtro.price, y=data_udemy_filtro.num_lectures, alpha= 0.8)\n",
    "plt.title('Relación entre el precio y número de lecturas')\n",
    "ax.set_xlabel('Precio')\n",
    "ax.set_ylabel('Numero de lecturas');"
   ]
  },
  {
   "cell_type": "code",
   "execution_count": 104,
   "metadata": {},
   "outputs": [
    {
     "data": {
      "image/png": "[encoded data removed]",
      "text/plain": [
       "<Figure size 1000x400 with 2 Axes>"
      ]
     },
     "metadata": {},
     "output_type": "display_data"
    }
   ],
   "source": [
    "# Gráfico distribución de número de lecturas y número de suscriptores\n",
    "fig, axs = plt.subplots(nrows=1, ncols=2, figsize=(10, 4))\n",
    "\n",
    "axs[0].hist(x=data_udemy_filtro.num_lectures, bins=20, color=\"red\", alpha=0.5)\n",
    "axs[0].plot(data_udemy_filtro.num_lectures, np.full_like(data_udemy_filtro.num_lectures, -0.01), '|k', markeredgewidth=1)\n",
    "axs[0].set_title('Distribución numero de lecturas')\n",
    "axs[0].set_xlabel('Número de lecturas')\n",
    "axs[0].set_ylabel('Cantidad')\n",
    "\n",
    "axs[1].hist(x=data_udemy_filtro.num_subscribers, bins=20, color=\"red\", alpha=0.5)\n",
    "axs[1].plot(data_udemy_filtro.num_subscribers, np.full_like(data_udemy_filtro.num_subscribers, -0.01), '|k', markeredgewidth=1)\n",
    "axs[1].set_title('Distribución número de suscriptores')\n",
    "axs[1].set_xlabel('Número de suscriptores')\n",
    "axs[1].set_ylabel('Cantidad')\n",
    "\n",
    "\n",
    "plt.tight_layout();"
   ]
  },
  {
   "cell_type": "code",
   "execution_count": 112,
   "metadata": {},
   "outputs": [],
   "source": [
    "##generare un csv nuevo con la información filtrada\n",
    "\n",
    "#data_udemy_filtro.to_csv('Udemy.csv', index=False)"
   ]
  },
  {
   "attachments": {},
   "cell_type": "markdown",
   "metadata": {},
   "source": [
    "Me quedare con los csv creados udemy y edx, no trabajare con los de coursera porque no tengo información suficiente de estos dos csv \n",
    "y ya no me queda tiempo para hacer el dashboar :("
   ]
  },
  {
   "cell_type": "code",
   "execution_count": 105,
   "metadata": {},
   "outputs": [
    {
     "data": {
      "image/png": "[encoded data removed]",
      "text/plain": [
       "<Figure size 640x480 with 1 Axes>"
      ]
     },
     "metadata": {},
     "output_type": "display_data"
    }
   ],
   "source": [
    "from wordcloud import WordCloud   ##nube de palabras de udemy\n",
    "data = data_udemy_filtro['course_title'].value_counts().to_dict()\n",
    "wc = WordCloud().generate_from_frequencies(data)\n",
    "\n",
    "plt.imshow(wc)\n",
    "plt.axis('off')\n",
    "plt.show()"
   ]
  },
  {
   "cell_type": "code",
   "execution_count": 114,
   "metadata": {},
   "outputs": [
    {
     "data": {
      "text/plain": [
       "268923"
      ]
     },
     "execution_count": 114,
     "metadata": {},
     "output_type": "execute_result"
    }
   ],
   "source": [
    "data_Udemy.loc[data_Udemy.num_subscribers.idxmax()]['num_subscribers']"
   ]
  },
  {
   "cell_type": "code",
   "execution_count": null,
   "metadata": {},
   "outputs": [],
   "source": []
  }
 ],
 "metadata": {
  "kernelspec": {
   "display_name": "Python 3",
   "language": "python",
   "name": "python3"
  },
  "language_info": {
   "codemirror_mode": {
    "name": "ipython",
    "version": 3
   },
   "file_extension": ".py",
   "mimetype": "text/x-python",
   "name": "python",
   "nbconvert_exporter": "python",
   "pygments_lexer": "ipython3",
   "version": "3.10.7"
  },
  "orig_nbformat": 4,
  "vscode": {
   "interpreter": {
    "hash": "df95319d8ce4e1d89f5365ae10992bc1f65da593082b1d264e8f529830ec2f02"
   }
  }
 },
 "nbformat": 4,
 "nbformat_minor": 2
}
